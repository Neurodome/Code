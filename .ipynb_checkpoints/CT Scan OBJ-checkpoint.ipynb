{
 "cells": [
  {
   "cell_type": "markdown",
   "metadata": {},
   "source": [
    "This file uses the NeurodomeLibrary to load the CT data into memory and then uses the marching cube algorithm to create isometric surface(s)."
   ]
  },
  {
   "cell_type": "code",
   "execution_count": 2,
   "metadata": {
    "collapsed": false
   },
   "outputs": [],
   "source": [
    "from numpy import *\n",
    "import NeurodomeLibrary"
   ]
  },
  {
   "cell_type": "code",
   "execution_count": 7,
   "metadata": {
    "collapsed": false
   },
   "outputs": [
    {
     "name": "stdout",
     "output_type": "stream",
     "text": [
      "Found 174 frames\n",
      "Writing Data:\n"
     ]
    }
   ],
   "source": [
    "data = NeurodomeLibrary.loadtiff(\"/Volumes/TOSHIBA EXT/Neurodome/Raw Data/CT_transverse_1.tif\")\n",
    "scale = (1,1,2.5362)\n",
    "for thresh in xrange(400,401,100):\n",
    "    fil = open(\"/Volumes/TOSHIBA EXT/Neurodome/Processed Stuff/CT_Skull_\"+str(thresh)+\".obj\",\"w\")\n",
    "    NeurodomeLibrary.marchingcubesobj(data,thresh,fil,scale = scale)\n",
    "    fil.close()"
   ]
  }
 ],
 "metadata": {
  "kernelspec": {
   "display_name": "Python 2",
   "language": "python",
   "name": "python2"
  },
  "language_info": {
   "codemirror_mode": {
    "name": "ipython",
    "version": 2
   },
   "file_extension": ".py",
   "mimetype": "text/x-python",
   "name": "python",
   "nbconvert_exporter": "python",
   "pygments_lexer": "ipython2",
   "version": "2.7.9"
  }
 },
 "nbformat": 4,
 "nbformat_minor": 0
}
