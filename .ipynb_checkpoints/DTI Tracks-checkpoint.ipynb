{
 "cells": [
  {
   "cell_type": "markdown",
   "metadata": {},
   "source": [
    "This Notebook creates OBJ and PLY files (with vertex colors) of the dti.trk data with a customizable number of fibers."
   ]
  },
  {
   "cell_type": "code",
   "execution_count": 1,
   "metadata": {
    "collapsed": false
   },
   "outputs": [],
   "source": [
    "import struct\n",
    "import numpy\n",
    "import os"
   ]
  },
  {
   "cell_type": "code",
   "execution_count": 21,
   "metadata": {
    "collapsed": false
   },
   "outputs": [],
   "source": [
    "baseOutDir = \"/Volumes/TOSHIBA EXT/Neurodome/Processed Stuff/dtiTracks/\"\n",
    "offset = numpy.array((90.,126.,72.))\n",
    "dataFilName = \"/Volumes/TOSHIBA EXT/Neurodome/Raw Data/dti.trk\"\n",
    "skipCounts = range(1,51,3)\n",
    "FILSIZE = os.getsize(dataFilName)\n",
    "PLYHEADER = [\"ply\\nformat ascii 1.0\\nelement vertex \",\"\\nproperty float x\\nproperty float y\\nproperty float z\"\n",
    "             +\"\\nproperty red uchar\\nproperty green uchar\\nproperty blue uchar\\nelement edge \",\n",
    "             \"\\nproperty int vertex1\\nproperty int vertex2\\nend_header\\n\"]"
   ]
  },
  {
   "cell_type": "markdown",
   "metadata": {},
   "source": [
    "The cell below creates OBJ files from the raw data file."
   ]
  },
  {
   "cell_type": "code",
   "execution_count": 27,
   "metadata": {
    "collapsed": false
   },
   "outputs": [],
   "source": [
    "dataFil = open(dataFilName)\n",
    "lengths = []\n",
    "for skipCount in skipCounts:\n",
    "    objFil = open(baseOutDir+\"dtiTracks_\"+\"0\"*(2-len(str(skipCount)))+str(skipCount)+\".obj\",\"w\")\n",
    "    dataFil.seek(1000,0)\n",
    "    tcount = 0\n",
    "    vcount = 0\n",
    "    while (dataFil.tell() < FILSIZE):\n",
    "        m = struct.unpack(\"i\",dataFil.read(4))[0]\n",
    "        lengths.append(m)\n",
    "        if (tcount%skipCount == 0):\n",
    "            for i in range(m):\n",
    "                objFil.write(str(m)+\" v %8.3f %8.3f %8.3f\\n\" % tuple(numpy.array(struct.unpack(\"3f\",dataFil.read(12)))-offset))\n",
    "            outstr = \"l\"\n",
    "            for j in range(m):\n",
    "                vcount += 1\n",
    "                outstr +=\" %8d\" % (vcount)\n",
    "            objFil.write(outstr+\"\\n\")\n",
    "        else:\n",
    "            dataFil.seek((3)*4*m,1)\n",
    "        tcount+=1\n",
    "    objFil.close()\n",
    "dataFil.close()"
   ]
  },
  {
   "cell_type": "markdown",
   "metadata": {},
   "source": [
    "The cell below converts the OBJ files generated above into PLY files with vertex color properties."
   ]
  },
  {
   "cell_type": "code",
   "execution_count": 121,
   "metadata": {
    "collapsed": false
   },
   "outputs": [],
   "source": [
    "for skipCount in skipCounts:\n",
    "    headFilName = baseOutDir+\"dtiTracks_\"+\"0\"*(2-len(str(skipCount)))+str(skipCount)+\"head.txt\"\n",
    "    vertFilname = baseOutDir+\"dtiTracks_\"+\"0\"*(2-len(str(skipCount)))+str(skipCount)+\"verts.txt\"\n",
    "    lineFilName = baseOutDir+\"dtiTracks_\"+\"0\"*(2-len(str(skipCount)))+str(skipCount)+\"lines.txt\"\n",
    "    plyFilName = baseOutDir+\"dtiTracks_\"+\"0\"*(2-len(str(skipCount)))+str(skipCount)+\".ply\"\n",
    "    objFil = open(baseOutDir+\"dtiTracks_\"+\"0\"*(2-len(str(skipCount)))+str(skipCount)+\".obj\",\"r\")\n",
    "    vertFil =  open(vertFilName,\"w\")\n",
    "    lineFil =  open(lineFilName,\"w\")\n",
    "    vcount = 0\n",
    "    lcount = 0\n",
    "    strng = objFil.readline()\n",
    "    while(strng):\n",
    "        verts =[]\n",
    "        element = strng.strip().split()\n",
    "        while(element[0] == \"v\"):\n",
    "            verts.append(numpy.array([float(element[1]),float(element[2]),float(element[3])]))\n",
    "            strng = objFil.readline()\n",
    "            element = strng.strip().split()\n",
    "        verts = numpy.array(verts)\n",
    "        colors = numpy.zeros(verts.shape)\n",
    "        colors[0] = abs(verts[0]-verts[1])/numpy.linalg.norm(verts[0]-verts[1])\n",
    "        colors[-1]= abs(verts[-1]-verts[-2])/numpy.linalg.norm(verts[-1]-verts[-2])\n",
    "        for i in range(1,(verts.shape[0])-1):\n",
    "            colors[i] = (abs(verts[i]-verts[i+1])/numpy.linalg.norm(verts[i]-verts[i+1])+\n",
    "                         abs(verts[i]-verts[i-1])/numpy.linalg.norm(verts[i]-verts[i-1]))/2\n",
    "        for i in range(verts.shape[0]):\n",
    "            vcount+=1\n",
    "            vertFil.write(\"%.3f %.3f %.3f\" % tuple(verts[i]))\n",
    "            vertFil.write(\" %d %d %d\\n\" % tuple((255*colors[i]).astype(int)))\n",
    "        for i in range(1,len(element)-1):\n",
    "            lineFil.write(str(int(element[i])-1)+\" \"+str(int(element[i+1])-1)+\"\\n\")\n",
    "            lcount += 1\n",
    "        strng = objFil.readline()\n",
    "    plyHead = open(headFilName,\"w\")\n",
    "    plyHead.write(plyHeader[0]+str(vcount)+plyHeader[1]+str(lcount)+plyHeader[2])\n",
    "    plyHead.close()\n",
    "    vertFil.close()\n",
    "    lineFil.close()\n",
    "    bDir = \"/Volumes/TOSHIBA\\ EXT/Neurodome\"\n",
    "    arg = headFilName+\" \"+vertFilname+\" \"+lineFilName+\" > \"+plyFilName\n",
    "    !cat $arg\n",
    "!rm {bDir+\"/Processed\\ Stuff/dtiTracks/dtiTracks_??*.txt\"}"
   ]
  }
 ],
 "metadata": {
  "kernelspec": {
   "display_name": "Python 2",
   "language": "python",
   "name": "python2"
  },
  "language_info": {
   "codemirror_mode": {
    "name": "ipython",
    "version": 2
   },
   "file_extension": ".py",
   "mimetype": "text/x-python",
   "name": "python",
   "nbconvert_exporter": "python",
   "pygments_lexer": "ipython2",
   "version": "2.7.9"
  }
 },
 "nbformat": 4,
 "nbformat_minor": 0
}
