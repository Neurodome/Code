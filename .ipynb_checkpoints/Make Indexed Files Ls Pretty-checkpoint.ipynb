{
 "cells": [
  {
   "cell_type": "markdown",
   "metadata": {},
   "source": [
    "This notebook appends leading zeros to indicies in file names."
   ]
  },
  {
   "cell_type": "code",
   "execution_count": 4,
   "metadata": {
    "collapsed": false
   },
   "outputs": [
    {
     "name": "stdout",
     "output_type": "stream",
     "text": [
      "All Done\n"
     ]
    }
   ],
   "source": [
    "nameschemastart = 'test'\n",
    "nameschemaend = '.txt'\n",
    "digits = 4\n",
    "lsstr = nameschemastart+'*'+nameschemaend\n",
    "a = !ls $lsstr\n",
    "for f in a.l:\n",
    "    oldname = f\n",
    "    newname = nameschemastart+'0'*(digits-len(f[len(nameschemastart):-len(nameschemaend)]))+f[len(nameschemastart):-len(nameschemaend)]+nameschemaend\n",
    "    arg = oldname+\" \"+newname\n",
    "    !mv $arg\n",
    "print 'All Done'"
   ]
  }
 ],
 "metadata": {
  "kernelspec": {
   "display_name": "Python 2",
   "language": "python",
   "name": "python2"
  },
  "language_info": {
   "codemirror_mode": {
    "name": "ipython",
    "version": 2
   },
   "file_extension": ".py",
   "mimetype": "text/x-python",
   "name": "python",
   "nbconvert_exporter": "python",
   "pygments_lexer": "ipython2",
   "version": "2.7.9"
  }
 },
 "nbformat": 4,
 "nbformat_minor": 0
}
