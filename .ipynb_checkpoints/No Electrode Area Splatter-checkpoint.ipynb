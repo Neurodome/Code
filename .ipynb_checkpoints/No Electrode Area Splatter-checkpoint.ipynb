{
 "cells": [
  {
   "cell_type": "code",
   "execution_count": 4,
   "metadata": {
    "collapsed": false
   },
   "outputs": [],
   "source": [
    "import numpy\n",
    "import NeurodomeLibrary as NL\n",
    "import pylab"
   ]
  },
  {
   "cell_type": "code",
   "execution_count": null,
   "metadata": {
    "collapsed": false
   },
   "outputs": [
    {
     "name": "stdout",
     "output_type": "stream",
     "text": [
      "Found 350 frames\n"
     ]
    }
   ],
   "source": []
  },
  {
   "cell_type": "code",
   "execution_count": null,
   "metadata": {
    "collapsed": false
   },
   "outputs": [],
   "source": [
    "baseInDir = \"\"\n",
    "splatFilName = baseInDir+'no electrode area,2 step, 350FOV, 3 ave v3.raw'\n",
    "data = NL.loadtiff(baseInDir+'no electrode area,2 step, 350FOV, 3 ave.tif')\n",
    "fil = open(splatFilName,'w')\n",
    "for i in range(10):\n",
    "    NL.linsplatter(data,fil,10e6,4000,scale=(.685,.685,2))"
   ]
  }
 ],
 "metadata": {
  "kernelspec": {
   "display_name": "Python 2",
   "language": "python",
   "name": "python2"
  },
  "language_info": {
   "codemirror_mode": {
    "name": "ipython",
    "version": 2
   },
   "file_extension": ".py",
   "mimetype": "text/x-python",
   "name": "python",
   "nbconvert_exporter": "python",
   "pygments_lexer": "ipython2",
   "version": "2.7.9"
  }
 },
 "nbformat": 4,
 "nbformat_minor": 0
}
