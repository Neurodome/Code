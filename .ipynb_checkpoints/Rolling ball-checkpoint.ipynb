{
 "cells": [
  {
   "cell_type": "markdown",
   "metadata": {},
   "source": [
    "This notebook is designed to remove backgrounds from images using the rolling ball filter. This is still in the development satge and will be moved to the library when complete. It is currently not implemented elsewhere"
   ]
  },
  {
   "cell_type": "code",
   "execution_count": 1,
   "metadata": {
    "collapsed": false
   },
   "outputs": [],
   "source": [
    "import numpy"
   ]
  },
  {
   "cell_type": "code",
   "execution_count": 4,
   "metadata": {
    "collapsed": false
   },
   "outputs": [],
   "source": [
    "image  = numpy.zeros((500,500))\n",
    "lightBackground = False\n",
    "returnBackground = False\n",
    "radius = 100"
   ]
  },
  {
   "cell_type": "code",
   "execution_count": null,
   "metadata": {
    "collapsed": false
   },
   "outputs": [],
   "source": [
    "if (lightBackground):\n",
    "    mimage = max(image)\n",
    "    image = mimage-image\n",
    "bkgrnd = numpy.zeros(image.size)\n",
    "for x in xrange(image.shape(0)):\n",
    "    for y in xrange(image.shape(1)):\n",
    "        bkgrnd[x][y] = image[x][y]\n",
    "        for i in xrange(max(0,x-r),min(image.shape(0),x+radius+1)):\n",
    "            for j in xrange(max(0,y-r),min(image.shape(1),y+raidus+1)):\n",
    "                bkgrnd[x][y] = min(image[i][j]+((i-x)**2+(j-y)**2)/radius,bkgrnd[x][y])\n",
    "if (lightBackground):\n",
    "    image = mimage - image\n",
    "    bkgrnd = mimage - bkgrnd\n",
    "if (returnBackground):\n",
    "    return (image, bkgrnd)\n",
    "else:\n",
    "    return image"
   ]
  },
  {
   "cell_type": "code",
   "execution_count": 5,
   "metadata": {
    "collapsed": false
   },
   "outputs": [
    {
     "data": {
      "text/plain": [
       "[-5, -4, -3, -2, -1, 0, 1, 2, 3, 4]"
      ]
     },
     "execution_count": 5,
     "metadata": {},
     "output_type": "execute_result"
    }
   ],
   "source": [
    "range(-5,5)"
   ]
  }
 ],
 "metadata": {
  "kernelspec": {
   "display_name": "Python 2",
   "language": "python",
   "name": "python2"
  },
  "language_info": {
   "codemirror_mode": {
    "name": "ipython",
    "version": 2
   },
   "file_extension": ".py",
   "mimetype": "text/x-python",
   "name": "python",
   "nbconvert_exporter": "python",
   "pygments_lexer": "ipython2",
   "version": "2.7.10"
  }
 },
 "nbformat": 4,
 "nbformat_minor": 0
}
