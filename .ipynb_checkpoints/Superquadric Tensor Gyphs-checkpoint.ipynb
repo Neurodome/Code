{
 "cells": [
  {
   "cell_type": "markdown",
   "metadata": {},
   "source": [
    "This notebook was used to develop the Superquadric Tensor Glyph algorithim implemented in the Neurodome library."
   ]
  },
  {
   "cell_type": "code",
   "execution_count": 1,
   "metadata": {
    "collapsed": false
   },
   "outputs": [],
   "source": [
    "from NeurodomeLibrary import *\n",
    "import numpy"
   ]
  },
  {
   "cell_type": "code",
   "execution_count": 12,
   "metadata": {
    "collapsed": false
   },
   "outputs": [],
   "source": [
    "lambdas = (2,5,1)\n",
    "nus = [numpy.array((1,0,0)),numpy.array((0,0,1)),numpy.array((0,1,0))]\n",
    "radius = 1\n",
    "gamma = 3\n",
    "segments = 10\n",
    "rings = 20\n",
    "center = (0.,0,0)\n"
   ]
  },
  {
   "cell_type": "code",
   "execution_count": 12,
   "metadata": {
    "collapsed": false
   },
   "outputs": [],
   "source": []
  },
  {
   "cell_type": "code",
   "execution_count": 13,
   "metadata": {
    "collapsed": false
   },
   "outputs": [],
   "source": [
    "lambdas = numpy.array(lambdas)\n",
    "center = numpy.array(center)\n",
    "args = numpy.argsort(lambdas)\n",
    "lambdas = lambdas[args[::-1]]\n",
    "vf = []\n",
    "for i in args[::-1]:\n",
    "    vf.append(nus[i]/numpy.linalg.norm(nus[i]))\n",
    "vs = None"
   ]
  },
  {
   "cell_type": "code",
   "execution_count": 14,
   "metadata": {
    "collapsed": false
   },
   "outputs": [],
   "source": [
    "def q(theta,phi,alpha,beta,qx = True):\n",
    "    if (qx):\n",
    "        x = numpy.sign(numpy.cos(phi))*abs(numpy.cos(phi))**beta\n",
    "        y = -numpy.sign(numpy.sin(theta))*abs(numpy.sin(theta))**alpha*numpy.sign(numpy.sin(phi))*abs(numpy.sin(phi))**beta\n",
    "        z = numpy.sign(numpy.cos(theta))*abs(numpy.cos(theta))**alpha*numpy.sign(numpy.sin(phi))*abs(numpy.sin(phi))**beta\n",
    "    else:\n",
    "        x = numpy.sign(numpy.cos(theta))*abs(numpy.cos(theta))**alpha*numpy.sign(numpy.sin(phi))*abs(numpy.sin(phi))**beta\n",
    "        y = numpy.sign(numpy.sin(theta))*abs(numpy.sin(theta))**alpha*numpy.sign(numpy.sin(phi))*abs(numpy.sin(phi))**beta\n",
    "        z = numpy.sign(numpy.cos(phi))*abs(numpy.cos(phi))**beta\n",
    "    return numpy.array([x, y, z])"
   ]
  },
  {
   "cell_type": "code",
   "execution_count": 15,
   "metadata": {
    "collapsed": false
   },
   "outputs": [],
   "source": [
    "cl = 1.*(lambdas[0]-lambdas[1])/sum(lambdas)\n",
    "cp = 2.*(lambdas[1]-lambdas[2])/sum(lambdas)\n",
    "if (cl >= cp):\n",
    "    alpha = (1-cp)**gamma\n",
    "    beta = (1-cl)**gamma\n",
    "else:\n",
    "    alpha = (1-cl)**gamma\n",
    "    beta = (1-cp)**gamma\n",
    "verts = []\n",
    "verts.append(q(0,0,alpha,beta,qx =(cl >= cp)))\n",
    "for phi in numpy.linspace(0,numpy.pi,rings+1)[1:-1]:\n",
    "    for theta in numpy.linspace(0,2*numpy.pi,segments,endpoint = False):\n",
    "        verts.append(q(theta,phi,alpha,beta,qx =(cl >= cp)))\n",
    "verts.append(q(0,numpy.pi,alpha,beta,qx =(cl >= cp)))\n",
    "mat = numpy.array([vf[0],vf[2],vf[1]]).T\n",
    "for i in xrange(len(verts)):\n",
    "    verts[i] = numpy.dot(mat,verts[i]*numpy.array([lambdas[0],lambdas[2],lambdas[1]])/max(lambdas))+center\n",
    "faces = UVFaces(segments,rings)\n"
   ]
  },
  {
   "cell_type": "code",
   "execution_count": 16,
   "metadata": {
    "collapsed": false
   },
   "outputs": [],
   "source": [
    "fil = open(\"supequad.obj\",\"w\")\n",
    "writeOBJFile(fil,verts,faces, precision=5)\n",
    "fil.close()"
   ]
  },
  {
   "cell_type": "code",
   "execution_count": 73,
   "metadata": {
    "collapsed": false
   },
   "outputs": [
    {
     "data": {
      "text/plain": [
       "0.2222222222222222"
      ]
     },
     "execution_count": 73,
     "metadata": {},
     "output_type": "execute_result"
    }
   ],
   "source": [
    "cl"
   ]
  },
  {
   "cell_type": "code",
   "execution_count": 74,
   "metadata": {
    "collapsed": false
   },
   "outputs": [
    {
     "data": {
      "text/plain": [
       "0.4444444444444444"
      ]
     },
     "execution_count": 74,
     "metadata": {},
     "output_type": "execute_result"
    }
   ],
   "source": [
    "cp"
   ]
  },
  {
   "cell_type": "code",
   "execution_count": 66,
   "metadata": {
    "collapsed": false
   },
   "outputs": [
    {
     "data": {
      "text/plain": [
       "array([5, 3, 3])"
      ]
     },
     "execution_count": 66,
     "metadata": {},
     "output_type": "execute_result"
    }
   ],
   "source": [
    "lambdas"
   ]
  },
  {
   "cell_type": "code",
   "execution_count": 67,
   "metadata": {
    "collapsed": false
   },
   "outputs": [
    {
     "data": {
      "text/plain": [
       "0"
      ]
     },
     "execution_count": 67,
     "metadata": {},
     "output_type": "execute_result"
    }
   ],
   "source": [
    "(lambdas[0]-lambdas[1])/sum(lambdas)"
   ]
  },
  {
   "cell_type": "code",
   "execution_count": null,
   "metadata": {
    "collapsed": false
   },
   "outputs": [],
   "source": []
  }
 ],
 "metadata": {
  "kernelspec": {
   "display_name": "Python 2",
   "language": "python",
   "name": "python2"
  },
  "language_info": {
   "codemirror_mode": {
    "name": "ipython",
    "version": 2
   },
   "file_extension": ".py",
   "mimetype": "text/x-python",
   "name": "python",
   "nbconvert_exporter": "python",
   "pygments_lexer": "ipython2",
   "version": "2.7.10"
  }
 },
 "nbformat": 4,
 "nbformat_minor": 0
}
