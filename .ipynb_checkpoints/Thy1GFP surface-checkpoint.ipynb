{
 "cells": [
  {
   "cell_type": "markdown",
   "metadata": {},
   "source": [
    "This notebook creates a surface rendering of the Thy1GFP neuron images. This creates large meshes. In order to keep file sizes managable, this program creates multiple mesh files. These are in a 3x3 grid in the x-y plane and continue in the z direction, in steps of 20, untill a given segment exceedes the specified number of polygons"
   ]
  },
  {
   "cell_type": "code",
   "execution_count": 1,
   "metadata": {
    "collapsed": false
   },
   "outputs": [],
   "source": [
    "from numpy import *\n",
    "import NeurodomeLibrary as NL"
   ]
  },
  {
   "cell_type": "markdown",
   "metadata": {},
   "source": [
    "The cell below initializes variables. In particular val is an array of the thresholds that the marching cube algorithm uses and polyswitch is the number of polygons that will cause the program to open a new obj file if exceeded."
   ]
  },
  {
   "cell_type": "code",
   "execution_count": null,
   "metadata": {
    "collapsed": true
   },
   "outputs": [],
   "source": [
    "baseIn='/Volumes/TOSHIBA EXT/Neurodome/Raw Data/Thy1GFP/Thy1GFP_Z'\n",
    "baseOut = '/Volumes/TOSHIBA EXT/Neurodome/Processed Stuff/Gerry Surfaces/Iso12/'\n",
    "data  = zeros((2287,2200,21))\n",
    "xbounds = ceil(linspace(1,2287,4))\n",
    "ybounds = ceil(linspace(1,2200,4))\n",
    "xcenters = .88*((xbounds[:-1]-1+xbounds[1:]-1)/2.-data.shape[0]/2.)\n",
    "ycenters = .88*((ybounds[:-1]-1+ybounds[1:]-1)/2.-data.shape[1]/2.)\n",
    "val = [12,]\n",
    "polyswitch = 2.5e6"
   ]
  },
  {
   "cell_type": "markdown",
   "metadata": {},
   "source": [
    "The cell below creates the series of obj files representing the surface"
   ]
  },
  {
   "cell_type": "code",
   "execution_count": 2,
   "metadata": {
    "collapsed": false
   },
   "outputs": [
    {
     "ename": "NameError",
     "evalue": "name 'val' is not defined",
     "output_type": "error",
     "traceback": [
      "\u001b[0;31m---------------------------------------------------------------------------\u001b[0m",
      "\u001b[0;31mNameError\u001b[0m                                 Traceback (most recent call last)",
      "\u001b[0;32m<ipython-input-2-d01d56dee782>\u001b[0m in \u001b[0;36m<module>\u001b[0;34m()\u001b[0m\n\u001b[1;32m      1\u001b[0m \u001b[0mobjfile\u001b[0m \u001b[0;34m=\u001b[0m \u001b[0;34m[\u001b[0m\u001b[0;34m]\u001b[0m\u001b[0;34m\u001b[0m\u001b[0m\n\u001b[0;32m----> 2\u001b[0;31m \u001b[0;32mfor\u001b[0m \u001b[0mi\u001b[0m \u001b[0;32min\u001b[0m \u001b[0mrange\u001b[0m\u001b[0;34m(\u001b[0m\u001b[0mlen\u001b[0m\u001b[0;34m(\u001b[0m\u001b[0mval\u001b[0m\u001b[0;34m)\u001b[0m\u001b[0;34m)\u001b[0m\u001b[0;34m:\u001b[0m\u001b[0;34m\u001b[0m\u001b[0m\n\u001b[0m\u001b[1;32m      3\u001b[0m     \u001b[0mobjfile\u001b[0m\u001b[0;34m.\u001b[0m\u001b[0mappend\u001b[0m\u001b[0;34m(\u001b[0m\u001b[0;34m[\u001b[0m\u001b[0;34m]\u001b[0m\u001b[0;34m)\u001b[0m\u001b[0;34m\u001b[0m\u001b[0m\n\u001b[1;32m      4\u001b[0m     \u001b[0;32mfor\u001b[0m \u001b[0mj\u001b[0m \u001b[0;32min\u001b[0m \u001b[0mrange\u001b[0m\u001b[0;34m(\u001b[0m\u001b[0mlen\u001b[0m\u001b[0;34m(\u001b[0m\u001b[0mxcenters\u001b[0m\u001b[0;34m)\u001b[0m\u001b[0;34m*\u001b[0m\u001b[0mlen\u001b[0m\u001b[0;34m(\u001b[0m\u001b[0mycenters\u001b[0m\u001b[0;34m)\u001b[0m\u001b[0;34m)\u001b[0m\u001b[0;34m:\u001b[0m\u001b[0;34m\u001b[0m\u001b[0m\n\u001b[1;32m      5\u001b[0m         \u001b[0mobjfile\u001b[0m\u001b[0;34m[\u001b[0m\u001b[0mi\u001b[0m\u001b[0;34m]\u001b[0m\u001b[0;34m.\u001b[0m\u001b[0mappend\u001b[0m\u001b[0;34m(\u001b[0m\u001b[0;36m0\u001b[0m\u001b[0;34m)\u001b[0m\u001b[0;34m\u001b[0m\u001b[0m\n",
      "\u001b[0;31mNameError\u001b[0m: name 'val' is not defined"
     ]
    }
   ],
   "source": [
    "objfile = []\n",
    "for i in range(len(val)):\n",
    "    objfile.append([])\n",
    "    for j in range(len(xcenters)*len(ycenters)):\n",
    "        objfile[i].append(0)\n",
    "voff = zeros((len(val),xcenters.size*ycenters.size))\n",
    "polycount = zeros_like(voff)\n",
    "voff = zeros((len(val),xcenters.size*ycenters.size))\n",
    "polycount = zeros_like(voff)\n",
    "zfile = zeros_like(polycount)\n",
    "for x in xrange(xcenters.size): #Initialize the obj files\n",
    "    for y in xrange(ycenters.size):\n",
    "            for i in xrange(len(val)):\n",
    "                objfile[i][xcenters.size*y+x] = open(baseOut+'Thy1GFP_'+str(val[i])+'_'+str(x)+'_'+str(y)+'_'+str(int(zfile[i,xcenters.size*y+x]))+'.obj','w')\n",
    "for i in xrange(0,1080,20): #This loops through each chunk of 20 slices\n",
    "    for j in xrange(21): #Loads data for that chunk of slices\n",
    "        data[:,:,j] =NL.loadtiff(baseIn+(4-len(str(i+j)))*'0'+str(i+j)+'.tif',debug=False).reshape(2287,2200)\n",
    "    if polycount.max()>=polyswitch: # Determines which (if any) segments need new files and switches them appropreatly\n",
    "        ind = where(polycount>=polyswitch)\n",
    "        voff[ind]=0\n",
    "        polycount[ind]=0\n",
    "        zfile[ind]+=1\n",
    "        for j in xrange(ind[0].size):\n",
    "            objfile[ind[0][j]][ind[1][j]].close() \n",
    "            objfile[ind[0][j]][ind[1][j]] = open(baseOut+'Thy1GFP_'+str(val[ind[0][j]])+'_'+str(ind[1][j]%xcenters.size)+'_'+str(int(floor(float(ind[1][j])/xcenters.size)))+'_'+str(int(zfile[ind[0][j],ind[1][j]]))+'.obj','w')\n",
    "    data = ceil(255*(data-11.)/(200.-11.)) #Renomralization of the data\n",
    "    for k in xrange(len(val)): # Runs marching cube on each of the 3x3 segments for each threshold\n",
    "        for x in xrange(xcenters.size):\n",
    "            for y in xrange(ycenters.size):\n",
    "                vertcount,numpolly = NL.marchingcubesobj(data[xbounds[x]-1:xbounds[x+1],ybounds[y]-1:ybounds[y+1],:],val[k]-.1,objfile[k][xcenters.size*y+x],scale=(.88,.88,2.),center=(xcenters[x],ycenters[y],((i-1087/2.)*2+(i+20-1087/2.)*2)/2),vertexoffset=voff[k,xcenters.size*y+x],debug=False)\n",
    "                voff[k,xcenters.size*y+x] += vertcount\n",
    "                polycount[k,xcenters.size*y+x] += numpolly\n",
    "#This loads and runs the marching cube algorithm on the remaining 8 slices of data\n",
    "dat = zeros((2287,2200,8))\n",
    "dat[:,:,0]=NL.loadtiff(baseIn+str(1080+0)+'.tif', debug = False).reshape(2287,2200)\n",
    "dat[:,:,1]=NL.loadtiff(baseIn+str(1080+1)+'.tif', debug = False).reshape(2287,2200)\n",
    "dat[:,:,2]=NL.loadtiff(baseIn+str(1080+2)+'.tif', debug = False).reshape(2287,2200)\n",
    "dat[:,:,3]=NL.loadtiff(baseIn+str(1080+3)+'.tif', debug = False).reshape(2287,2200)\n",
    "dat[:,:,4]=NL.loadtiff(baseIn+str(1080+4)+'.tif', debug = False).reshape(2287,2200)\n",
    "dat[:,:,5]=NL.loadtiff(baseIn+str(1080+5)+'.tif', debug = False).reshape(2287,2200)\n",
    "dat[:,:,6]=NL.loadtiff(baseIn+str(1080+6)+'.tif', debug = False).reshape(2287,2200)\n",
    "dat[:,:,7]=NL.loadtiff(baseIn+str(1080+7)+'.tif', debug = False).reshape(2287,2200)\n",
    "for i in xrange(len(val)):\n",
    "    for x in xrange(xcenters.size):\n",
    "        for y in xrange(ycenters.size):\n",
    "            NL.marchingcubesobj(dat[xbounds[x]-1:xbounds[x+1],ybounds[y]-1:ybounds[y+1],:],val[k]-.1,objfile[k][xcenters.size*y+x],scale=(.88,.88,2.),center=(xcenters[x],ycenters[y],2.*1080+7-1087.),vertexoffset=voff[k,xcenters.size*y+x],debug=False)\n",
    "            objfile[i][xcenters.size*y+x].close() "
   ]
  },
  {
   "cell_type": "code",
   "execution_count": null,
   "metadata": {
    "collapsed": true
   },
   "outputs": [],
   "source": []
  }
 ],
 "metadata": {
  "kernelspec": {
   "display_name": "Python 2",
   "language": "python",
   "name": "python2"
  },
  "language_info": {
   "codemirror_mode": {
    "name": "ipython",
    "version": 2
   },
   "file_extension": ".py",
   "mimetype": "text/x-python",
   "name": "python",
   "nbconvert_exporter": "python",
   "pygments_lexer": "ipython2",
   "version": "2.7.10"
  }
 },
 "nbformat": 4,
 "nbformat_minor": 0
}
