{
 "metadata": {
  "name": "",
  "signature": "sha256:0b972859603a33fab2f66e3f36adfbc092d09d5c6563f253e962ea369e44eb05"
 },
 "nbformat": 3,
 "nbformat_minor": 0,
 "worksheets": [
  {
   "cells": [
    {
     "cell_type": "code",
     "collapsed": false,
     "input": [
      "from numpy import *\n",
      "import NeurodomeLibrary"
     ],
     "language": "python",
     "metadata": {},
     "outputs": [],
     "prompt_number": 2
    },
    {
     "cell_type": "code",
     "collapsed": false,
     "input": [
      "reload(NeurodomeLibrary)"
     ],
     "language": "python",
     "metadata": {},
     "outputs": []
    },
    {
     "cell_type": "code",
     "collapsed": false,
     "input": [
      "data = NeurodomeLibrary.loadtiff(\"/Volumes/TOSHIBA EXT/Neurodome/Raw Data/CT_transverse_1.tif\")\n",
      "scale = (1,1,2.5362)\n",
      "for thresh in xrange(400,401,100):\n",
      "    fil = open(\"/Volumes/TOSHIBA EXT/Neurodome/Processed Stuff/CT_Skull_\"+str(thresh)+\".obj\",\"w\")\n",
      "    NeurodomeLibrary.marchingcubesobj(data,thresh,fil,scale = scale)\n",
      "    fil.close()"
     ],
     "language": "python",
     "metadata": {},
     "outputs": [
      {
       "output_type": "stream",
       "stream": "stdout",
       "text": [
        "Found 174 frames\n",
        "Writing Data:"
       ]
      },
      {
       "output_type": "stream",
       "stream": "stdout",
       "text": [
        "\n"
       ]
      }
     ],
     "prompt_number": 7
    },
    {
     "cell_type": "code",
     "collapsed": false,
     "input": [
      "NeurodomeLibrary.writeOBJFile?"
     ],
     "language": "python",
     "metadata": {},
     "outputs": [],
     "prompt_number": 16
    },
    {
     "cell_type": "code",
     "collapsed": false,
     "input": [
      "data = NeurodomeLibrary.loadtiff(\"/Volumes/TOSHIBA EXT/Neurodome/Raw Data/CT_saggital.tif\")\n",
      "fil = open(\"/Volumes/TOSHIBA EXT/Neurodome/Processed Stuff/CT_Skull_\"+str(thresh)+\"_y.obj\",\"w\")\n",
      "NeurodomeLibrary.marchingcubesobj(data,thresh,fil,scale = scale)\n",
      "fil.close()"
     ],
     "language": "python",
     "metadata": {},
     "outputs": [
      {
       "output_type": "stream",
       "stream": "stdout",
       "text": [
        "Found 131 frames\n",
        "Writing Data:"
       ]
      },
      {
       "output_type": "stream",
       "stream": "stdout",
       "text": [
        "\n"
       ]
      }
     ],
     "prompt_number": 5
    },
    {
     "cell_type": "code",
     "collapsed": false,
     "input": [],
     "language": "python",
     "metadata": {},
     "outputs": []
    }
   ],
   "metadata": {}
  }
 ]
}