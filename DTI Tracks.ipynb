{
 "cells": [
  {
   "cell_type": "code",
   "execution_count": 1,
   "metadata": {
    "collapsed": false
   },
   "outputs": [],
   "source": [
    "import struct\n",
    "import numpy\n",
    "import os"
   ]
  },
  {
   "cell_type": "code",
   "execution_count": 21,
   "metadata": {
    "collapsed": false
   },
   "outputs": [],
   "source": [
    "baseDir = \"/Volumes/TOSHIBA EXT/Neurodome\"\n",
    "dataFil = open(baseDir+\"/Raw Data/dti.trk\",\"rb\")\n",
    "skipcounts = range(1,51,3)\n",
    "dataFil.seek(0,2)\n",
    "filSize = dataFil.tell()\n",
    "dataFil.seek(36,0)\n",
    "offset = numpy.array((90.,126.,72.))\n",
    "ns = 0\n",
    "dataFil.seek(200,1)\n",
    "np = 0\n",
    "plyHeader = [\"ply\\nformat ascii 1.0\\nelement vertex \",\"\\nproperty float x\\nproperty float y\\nproperty float z\"\n",
    "             +\"\\nproperty red uchar\\nproperty green uchar\\nproperty blue uchar\\nelement edge \",\n",
    "             \"\\nproperty int vertex1\\nproperty int vertex2\\nend_header\\n\"]\n",
    "dataFil.close()"
   ]
  },
  {
   "cell_type": "code",
   "execution_count": 27,
   "metadata": {
    "collapsed": false
   },
   "outputs": [],
   "source": [
    "dataFil = open(baseDir+\"/Raw Data/dti.trk\",\"rb\")\n",
    "lengths = []\n",
    "skipcounts=(1000,)\n",
    "for skipcount in skipcounts:\n",
    "    objFil = open(baseDir+\"/Processed Stuff/dtiTracks/dtiTracks_\"+\"0\"*(2-len(str(skipcount)))+str(skipcount)+\".obj\",\"w\")\n",
    "    dataFil.seek(1000,0)\n",
    "    tcount = 0\n",
    "    vcount = 0\n",
    "    while (dataFil.tell() < filSize):\n",
    "        m = struct.unpack(\"i\",dataFil.read(4))[0]\n",
    "        lengths.append(m)\n",
    "        if (tcount%skipcount == 0):\n",
    "            for i in range(m):\n",
    "                objFil.write(str(m)+\" v %8.3f %8.3f %8.3f\\n\" % tuple(numpy.array(struct.unpack(\"3f\",dataFil.read(12)))-offset))\n",
    "            outstr = \"l\"\n",
    "            for j in range(m):\n",
    "                vcount += 1\n",
    "                outstr +=\" %8d\" % (vcount)\n",
    "            objFil.write(outstr+\"\\n\")\n",
    "        else:\n",
    "            dataFil.seek((3)*4*m,1)\n",
    "        tcount+=1\n",
    "    objFil.close()\n",
    "dataFil.close()"
   ]
  },
  {
   "cell_type": "code",
   "execution_count": 121,
   "metadata": {
    "collapsed": false
   },
   "outputs": [],
   "source": [
    "for skipcount in skipcounts:\n",
    "    objFil = open(baseDir+\"/Processed Stuff/dtiTracks/dtiTracks_\"+\"0\"*(2-len(str(skipcount)))+str(skipcount)+\".obj\",\"r\")\n",
    "    vertFil =  open(baseDir+\"/Processed Stuff/dtiTracks/dtiTracks_\"+\"0\"*(2-len(str(skipcount)))+str(skipcount)+\"_verts.txt\",\"w\")\n",
    "    lineFil =  open(baseDir+\"/Processed Stuff/dtiTracks/dtiTracks_\"+\"0\"*(2-len(str(skipcount)))+str(skipcount)+\"_lines.txt\",\"w\")\n",
    "    vcount = 0\n",
    "    lcount = 0\n",
    "    strng = objFil.readline()\n",
    "    while(strng):\n",
    "        verts =[]\n",
    "        element = strng.strip().split()\n",
    "        while(element[0] == \"v\"):\n",
    "            verts.append(numpy.array([float(element[1]),float(element[2]),float(element[3])]))\n",
    "            strng = objFil.readline()\n",
    "            element = strng.strip().split()\n",
    "        verts = numpy.array(verts)\n",
    "        colors = numpy.zeros(verts.shape)\n",
    "        colors[0] = abs(verts[0]-verts[1])/numpy.linalg.norm(verts[0]-verts[1])\n",
    "        colors[-1]= abs(verts[-1]-verts[-2])/numpy.linalg.norm(verts[-1]-verts[-2])\n",
    "        for i in range(1,(verts.shape[0])-1):\n",
    "            colors[i] = (abs(verts[i]-verts[i+1])/numpy.linalg.norm(verts[i]-verts[i+1])+\n",
    "                         abs(verts[i]-verts[i-1])/numpy.linalg.norm(verts[i]-verts[i-1]))/2\n",
    "        for i in range(verts.shape[0]):\n",
    "            vcount+=1\n",
    "            vertFil.write(\"%.3f %.3f %.3f\" % tuple(verts[i]))\n",
    "            vertFil.write(\" %d %d %d\\n\" % tuple((255*colors[i]).astype(int)))\n",
    "        for i in range(1,len(element)-1):\n",
    "            lineFil.write(str(int(element[i])-1)+\" \"+str(int(element[i+1])-1)+\"\\n\")\n",
    "            lcount += 1\n",
    "        strng = objFil.readline()\n",
    "    plyHead = open(baseDir+\"/Processed Stuff/dtiTracks/dtiTracks_\"+\"0\"*(2-len(str(skipcount)))+str(skipcount)+\"head.txt\",\"w\")\n",
    "    plyHead.write(plyHeader[0]+str(vcount)+plyHeader[1]+str(lcount)+plyHeader[2])\n",
    "    plyHead.close()\n",
    "    vertFil.close()\n",
    "    lineFil.close()\n",
    "    bDir = \"/Volumes/TOSHIBA\\ EXT/Neurodome\"\n",
    "    headFilName = bDir+\"/Processed\\ Stuff/dtiTracks/dtiTracks_\"+\"0\"*(2-len(str(skipcount)))+str(skipcount)+\"head.txt\"\n",
    "    vertFilname = bDir+\"/Processed\\ Stuff/dtiTracks/dtiTracks_\"+\"0\"*(2-len(str(skipcount)))+str(skipcount)+\"_verts.txt\"\n",
    "    lineFilName = bDir+\"/Processed\\ Stuff/dtiTracks/dtiTracks_\"+\"0\"*(2-len(str(skipcount)))+str(skipcount)+\"_lines.txt\"\n",
    "    plyFilName = bDir+\"/Processed\\ Stuff/dtiTracks/dtiTracks_\"+\"0\"*(2-len(str(skipcount)))+str(skipcount)+\".ply\"\n",
    "    arg = headFilName+\" \"+vertFilname+\" \"+lineFilName+\" > \"+plyFilName\n",
    "    !cat $arg\n",
    "!rm {bDir+\"/Processed\\ Stuff/dtiTracks/dtiTracks_??*.txt\"}"
   ]
  },
  {
   "cell_type": "code",
   "execution_count": 112,
   "metadata": {
    "collapsed": false
   },
   "outputs": [],
   "source": [
    "for skipcount in skipcounts :\n",
    "    bDir = \"/Volumes/TOSHIBA\\ EXT/Neurodome\"\n",
    "    headFilName = bDir+\"/Processed\\ Stuff/dtiTracks/dtiTracks_\"+\"0\"*(2-len(str(skipcount)))+str(skipcount)+\"head.txt\"\n",
    "    vertFilname = bDir+\"/Processed\\ Stuff/dtiTracks/dtiTracks_\"+\"0\"*(2-len(str(skipcount)))+str(skipcount)+\"_verts.txt\"\n",
    "    lineFilName = bDir+\"/Processed\\ Stuff/dtiTracks/dtiTracks_\"+\"0\"*(2-len(str(skipcount)))+str(skipcount)+\"_lines.txt\"\n",
    "    plyFilName = bDir+\"/Processed\\ Stuff/dtiTracks/dtiTracks_\"+\"0\"*(2-len(str(skipcount)))+str(skipcount)+\".ply\"\n",
    "    arg = headFilName+\" \"+vertFilname+\" \"+lineFilName+\" > \"+plyFilName\n",
    "    !cat {arg}"
   ]
  },
  {
   "cell_type": "code",
   "execution_count": 77,
   "metadata": {
    "collapsed": false
   },
   "outputs": [
    {
     "data": {
      "text/plain": [
       "(2, 3, 4)"
      ]
     },
     "execution_count": 77,
     "metadata": {},
     "output_type": "execute_result"
    }
   ],
   "source": [
    "e[1:4]"
   ]
  },
  {
   "cell_type": "code",
   "execution_count": 114,
   "metadata": {
    "collapsed": false
   },
   "outputs": [],
   "source": [
    "!rm {bDir+\"/Processed\\ Stuff/dtiTracks/dtiTracks_??*.ply\"}"
   ]
  },
  {
   "cell_type": "code",
   "execution_count": 81,
   "metadata": {
    "collapsed": false
   },
   "outputs": [
    {
     "data": {
      "text/plain": [
       "(2, 3)"
      ]
     },
     "execution_count": 81,
     "metadata": {},
     "output_type": "execute_result"
    }
   ],
   "source": [
    "c.shape"
   ]
  },
  {
   "cell_type": "code",
   "execution_count": 110,
   "metadata": {
    "collapsed": false
   },
   "outputs": [
    {
     "data": {
      "text/plain": [
       "'/Volumes/TOSHIBA EXT/Neurodome/Processed Stuff/dtiTracks/dtiTracks_49head.txt /Volumes/TOSHIBA EXT/Neurodome/Processed Stuff/dtiTracks/dtiTracks_49_verts.txt /Volumes/TOSHIBA EXT/Neurodome/Processed Stuff/dtiTracks/dtiTracks_49_lines.txt > /Volumes/TOSHIBA EXT/Neurodome/Processed Stuff/dtiTracks/dtiTracks_49.ply'"
      ]
     },
     "execution_count": 110,
     "metadata": {},
     "output_type": "execute_result"
    }
   ],
   "source": [
    "arg"
   ]
  },
  {
   "cell_type": "code",
   "execution_count": 4,
   "metadata": {
    "collapsed": false
   },
   "outputs": [
    {
     "data": {
      "text/plain": [
       "26"
      ]
     },
     "execution_count": 4,
     "metadata": {},
     "output_type": "execute_result"
    }
   ],
   "source": [
    "maxLength"
   ]
  },
  {
   "cell_type": "code",
   "execution_count": 6,
   "metadata": {
    "collapsed": true
   },
   "outputs": [],
   "source": [
    "import pylab"
   ]
  },
  {
   "cell_type": "code",
   "execution_count": 23,
   "metadata": {
    "collapsed": false
   },
   "outputs": [
    {
     "data": {
      "text/plain": [
       "(array([     0,      0,      0, 677450, 575093, 262565,  99161,  39644,\n",
       "         22219,  11764,   6392,   3791,   1530,    799,    816,    306,\n",
       "           374,    289,    119,    119,     68,     17,     34,      0,\n",
       "             0,     17]),\n",
       " array([ 0,  1,  2,  3,  4,  5,  6,  7,  8,  9, 10, 11, 12, 13, 14, 15, 16,\n",
       "        17, 18, 19, 20, 21, 22, 23, 24, 25, 26]))"
      ]
     },
     "execution_count": 23,
     "metadata": {},
     "output_type": "execute_result"
    }
   ],
   "source": [
    "pylab.histogram(lengths,bins = numpy.arange(27))"
   ]
  },
  {
   "cell_type": "code",
   "execution_count": null,
   "metadata": {
    "collapsed": true
   },
   "outputs": [],
   "source": []
  }
 ],
 "metadata": {
  "kernelspec": {
   "display_name": "Python 2",
   "language": "python",
   "name": "python2"
  },
  "language_info": {
   "codemirror_mode": {
    "name": "ipython",
    "version": 2
   },
   "file_extension": ".py",
   "mimetype": "text/x-python",
   "name": "python",
   "nbconvert_exporter": "python",
   "pygments_lexer": "ipython2",
   "version": "2.7.9"
  }
 },
 "nbformat": 4,
 "nbformat_minor": 0
}
