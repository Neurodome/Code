{
 "metadata": {
  "name": "",
  "signature": "sha256:3670eee3c524f6615d29fed136e517e3066513dbf695aeac0517b34441beda24"
 },
 "nbformat": 3,
 "nbformat_minor": 0,
 "worksheets": [
  {
   "cells": [
    {
     "cell_type": "code",
     "collapsed": false,
     "input": [
      "import numpy"
     ],
     "language": "python",
     "metadata": {},
     "outputs": [],
     "prompt_number": 1
    },
    {
     "cell_type": "code",
     "collapsed": false,
     "input": [
      "image  = numpy.zeros((500,500))\n",
      "lightBackground = False\n",
      "returnBackground = False\n",
      "radius = 100"
     ],
     "language": "python",
     "metadata": {},
     "outputs": [],
     "prompt_number": 4
    },
    {
     "cell_type": "code",
     "collapsed": false,
     "input": [
      "if (lightBackground):\n",
      "    mimage = max(image)\n",
      "    image = mimage-image\n",
      "bkgrnd = numpy.zeros(image.size)\n",
      "for x in xrange(image.shape(0)):\n",
      "    for y in xrange(image.shape(1)):\n",
      "        bkgrnd[x][y] = image[x][y]\n",
      "        for i in xrange(max(0,x-r),min(image.shape(0),x+radius+1)):\n",
      "            for j in xrange(max(0,y-r),min(image.shape(1),y+raidus+1)):\n",
      "                bkgrnd[x][y] = min(image[i][j]+((i-x)**2+(j-y)**2)/radius,bkgrnd[x][y])\n",
      "if (lightBackground):\n",
      "    image = mimage - image\n",
      "    bkgrnd = mimage - bkgrnd\n",
      "if (returnBackground):\n",
      "    return (image, bkgrnd)\n",
      "else:\n",
      "    return image"
     ],
     "language": "python",
     "metadata": {},
     "outputs": []
    },
    {
     "cell_type": "code",
     "collapsed": false,
     "input": [
      "range(-5,5)"
     ],
     "language": "python",
     "metadata": {},
     "outputs": [
      {
       "metadata": {},
       "output_type": "pyout",
       "prompt_number": 5,
       "text": [
        "[-5, -4, -3, -2, -1, 0, 1, 2, 3, 4]"
       ]
      }
     ],
     "prompt_number": 5
    }
   ],
   "metadata": {}
  }
 ]
}