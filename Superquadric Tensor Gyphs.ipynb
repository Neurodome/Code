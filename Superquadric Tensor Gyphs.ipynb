{
 "metadata": {
  "name": "",
  "signature": "sha256:541f759c48f3fd6c0c2cf39157775ea37cf6882822e440eea95c92ed032038c5"
 },
 "nbformat": 3,
 "nbformat_minor": 0,
 "worksheets": [
  {
   "cells": [
    {
     "cell_type": "code",
     "collapsed": false,
     "input": [
      "from NeurodomeLibrary import *\n",
      "import numpy"
     ],
     "language": "python",
     "metadata": {},
     "outputs": [],
     "prompt_number": 1
    },
    {
     "cell_type": "code",
     "collapsed": false,
     "input": [
      "lambdas = (2,5,1)\n",
      "nus = [numpy.array((1,0,0)),numpy.array((0,0,1)),numpy.array((0,1,0))]\n",
      "radius = 1\n",
      "gamma = 3\n",
      "segments = 10\n",
      "rings = 20\n",
      "center = (0.,0,0)\n"
     ],
     "language": "python",
     "metadata": {},
     "outputs": [],
     "prompt_number": 12
    },
    {
     "cell_type": "code",
     "collapsed": false,
     "input": [],
     "language": "python",
     "metadata": {},
     "outputs": [],
     "prompt_number": 12
    },
    {
     "cell_type": "code",
     "collapsed": false,
     "input": [
      "lambdas = numpy.array(lambdas)\n",
      "center = numpy.array(center)\n",
      "args = numpy.argsort(lambdas)\n",
      "lambdas = lambdas[args[::-1]]\n",
      "vf = []\n",
      "for i in args[::-1]:\n",
      "    vf.append(nus[i]/numpy.linalg.norm(nus[i]))\n",
      "vs = None"
     ],
     "language": "python",
     "metadata": {},
     "outputs": [],
     "prompt_number": 13
    },
    {
     "cell_type": "code",
     "collapsed": false,
     "input": [
      "def q(theta,phi,alpha,beta,qx = True):\n",
      "    if (qx):\n",
      "        x = numpy.sign(numpy.cos(phi))*abs(numpy.cos(phi))**beta\n",
      "        y = -numpy.sign(numpy.sin(theta))*abs(numpy.sin(theta))**alpha*numpy.sign(numpy.sin(phi))*abs(numpy.sin(phi))**beta\n",
      "        z = numpy.sign(numpy.cos(theta))*abs(numpy.cos(theta))**alpha*numpy.sign(numpy.sin(phi))*abs(numpy.sin(phi))**beta\n",
      "    else:\n",
      "        x = numpy.sign(numpy.cos(theta))*abs(numpy.cos(theta))**alpha*numpy.sign(numpy.sin(phi))*abs(numpy.sin(phi))**beta\n",
      "        y = numpy.sign(numpy.sin(theta))*abs(numpy.sin(theta))**alpha*numpy.sign(numpy.sin(phi))*abs(numpy.sin(phi))**beta\n",
      "        z = numpy.sign(numpy.cos(phi))*abs(numpy.cos(phi))**beta\n",
      "    return numpy.array([x, y, z])"
     ],
     "language": "python",
     "metadata": {},
     "outputs": [],
     "prompt_number": 14
    },
    {
     "cell_type": "code",
     "collapsed": false,
     "input": [
      "cl = 1.*(lambdas[0]-lambdas[1])/sum(lambdas)\n",
      "cp = 2.*(lambdas[1]-lambdas[2])/sum(lambdas)\n",
      "if (cl >= cp):\n",
      "    alpha = (1-cp)**gamma\n",
      "    beta = (1-cl)**gamma\n",
      "else:\n",
      "    alpha = (1-cl)**gamma\n",
      "    beta = (1-cp)**gamma\n",
      "verts = []\n",
      "verts.append(q(0,0,alpha,beta,qx =(cl >= cp)))\n",
      "for phi in numpy.linspace(0,numpy.pi,rings+1)[1:-1]:\n",
      "    for theta in numpy.linspace(0,2*numpy.pi,segments,endpoint = False):\n",
      "        verts.append(q(theta,phi,alpha,beta,qx =(cl >= cp)))\n",
      "verts.append(q(0,numpy.pi,alpha,beta,qx =(cl >= cp)))\n",
      "mat = numpy.array([vf[0],vf[2],vf[1]]).T\n",
      "for i in xrange(len(verts)):\n",
      "    verts[i] = numpy.dot(mat,verts[i]*numpy.array([lambdas[0],lambdas[2],lambdas[1]])/max(lambdas))+center\n",
      "faces = UVFaces(segments,rings)\n"
     ],
     "language": "python",
     "metadata": {},
     "outputs": [],
     "prompt_number": 15
    },
    {
     "cell_type": "code",
     "collapsed": false,
     "input": [
      "fil = open(\"supequad.obj\",\"w\")\n",
      "writeOBJFile(fil,verts,faces, precision=5)\n",
      "fil.close()"
     ],
     "language": "python",
     "metadata": {},
     "outputs": [],
     "prompt_number": 16
    },
    {
     "cell_type": "code",
     "collapsed": false,
     "input": [
      "cl"
     ],
     "language": "python",
     "metadata": {},
     "outputs": [
      {
       "metadata": {},
       "output_type": "pyout",
       "prompt_number": 73,
       "text": [
        "0.2222222222222222"
       ]
      }
     ],
     "prompt_number": 73
    },
    {
     "cell_type": "code",
     "collapsed": false,
     "input": [
      "cp"
     ],
     "language": "python",
     "metadata": {},
     "outputs": [
      {
       "metadata": {},
       "output_type": "pyout",
       "prompt_number": 74,
       "text": [
        "0.4444444444444444"
       ]
      }
     ],
     "prompt_number": 74
    },
    {
     "cell_type": "code",
     "collapsed": false,
     "input": [
      "lambdas"
     ],
     "language": "python",
     "metadata": {},
     "outputs": [
      {
       "metadata": {},
       "output_type": "pyout",
       "prompt_number": 66,
       "text": [
        "array([5, 3, 3])"
       ]
      }
     ],
     "prompt_number": 66
    },
    {
     "cell_type": "code",
     "collapsed": false,
     "input": [
      "(lambdas[0]-lambdas[1])/sum(lambdas)"
     ],
     "language": "python",
     "metadata": {},
     "outputs": [
      {
       "metadata": {},
       "output_type": "pyout",
       "prompt_number": 67,
       "text": [
        "0"
       ]
      }
     ],
     "prompt_number": 67
    },
    {
     "cell_type": "code",
     "collapsed": false,
     "input": [],
     "language": "python",
     "metadata": {},
     "outputs": []
    }
   ],
   "metadata": {}
  }
 ]
}