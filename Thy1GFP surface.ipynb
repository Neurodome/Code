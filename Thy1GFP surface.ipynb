{
 "cells": [
  {
   "cell_type": "code",
   "execution_count": 1,
   "metadata": {
    "collapsed": false
   },
   "outputs": [],
   "source": [
    "from numpy import *\n",
    "import NeurodomeLibrary as NL"
   ]
  },
  {
   "cell_type": "code",
   "execution_count": 3,
   "metadata": {
    "collapsed": false
   },
   "outputs": [
    {
     "name": "stdout",
     "output_type": "stream",
     "text": [
      "0\n",
      "20\n",
      "40\n",
      "60\n",
      "80\n",
      "100\n",
      "120\n",
      "140\n",
      "160\n",
      "180\n",
      "200\n",
      "220\n",
      "240\n",
      "260\n",
      "280\n",
      "300\n",
      "320\n",
      "340\n",
      "360\n",
      "380\n",
      "400\n",
      "420\n",
      "440\n",
      "460\n",
      "480\n",
      "500\n",
      "520\n",
      "540\n",
      "560\n",
      "580\n",
      "600\n",
      "620\n",
      "640\n",
      "660\n",
      "680\n",
      "700\n",
      "720\n",
      "740\n",
      "760\n",
      "780\n",
      "800\n",
      "820\n",
      "840\n",
      "860\n",
      "880\n",
      "900\n",
      "920\n",
      "940\n",
      "960\n",
      "980\n",
      "1000\n",
      "1020\n",
      "1040\n",
      "1060\n",
      "Found 1 frames\n",
      "Found 1 frames\n",
      "Found 1 frames\n",
      "Found 1 frames\n",
      "Found 1 frames\n",
      "Found 1 frames\n",
      "Found 1 frames\n",
      "Found 1 frames\n"
     ]
    }
   ],
   "source": [
    "baseIn='/Volumes/TOSHIBA EXT/Neurodome/Raw Data/Thy1GFP/Thy1GFP_Z'\n",
    "baseOut = '/Volumes/TOSHIBA EXT/Neurodome/Processed Stuff/Gerry Surfaces/Iso12/'\n",
    "data  = zeros((2287,2200,21))\n",
    "xbounds = ceil(linspace(1,2287,4))\n",
    "ybounds = ceil(linspace(1,2200,4))\n",
    "xcenters = .88*((xbounds[:-1]-1+xbounds[1:]-1)/2.-data.shape[0]/2.)\n",
    "ycenters = .88*((ybounds[:-1]-1+ybounds[1:]-1)/2.-data.shape[1]/2.)\n",
    "val = [12,]\n",
    "polyswitch = 2.5e6\n",
    "objfile = []\n",
    "for i in range(len(val)):\n",
    "    objfile.append([])\n",
    "    for j in range(len(xcenters)*len(ycenters)):\n",
    "        objfile[i].append(0)\n",
    "voff = zeros((len(val),xcenters.size*ycenters.size))\n",
    "polycount = zeros_like(voff)\n",
    "voff = zeros((len(val),xcenters.size*ycenters.size))\n",
    "polycount = zeros_like(voff)\n",
    "zfile = zeros_like(polycount)\n",
    "for x in xrange(xcenters.size):\n",
    "    for y in xrange(ycenters.size):\n",
    "            for i in xrange(len(val)):\n",
    "                objfile[i][xcenters.size*y+x] = open(baseOut+'Thy1GFP_'+str(val[i])+'_'+str(x)+'_'+str(y)+'_'+str(int(zfile[i,xcenters.size*y+x]))+'.obj','w')\n",
    "for i in xrange(0,1080,20):\n",
    "    for j in xrange(21):\n",
    "        data[:,:,j] =NL.loadtiff(baseIn+(4-len(str(i+j)))*'0'+str(i+j)+'.tif',debug=False).reshape(2287,2200)\n",
    "    if polycount.max()>=polyswitch:\n",
    "        ind = where(polycount>=polyswitch)\n",
    "        voff[ind]=0\n",
    "        polycount[ind]=0\n",
    "        zfile[ind]+=1\n",
    "        for j in xrange(ind[0].size):\n",
    "            objfile[ind[0][j]][ind[1][j]].close() \n",
    "            objfile[ind[0][j]][ind[1][j]] = open(baseOut+'Thy1GFP_'+str(val[ind[0][j]])+'_'+str(ind[1][j]%xcenters.size)+'_'+str(int(floor(float(ind[1][j])/xcenters.size)))+'_'+str(int(zfile[ind[0][j],ind[1][j]]))+'.obj','w')\n",
    "    data = ceil(255*(data-11.)/(200.-11.))\n",
    "    for k in xrange(len(val)):\n",
    "        for x in xrange(xcenters.size):\n",
    "            for y in xrange(ycenters.size):\n",
    "                vertcount,numpolly = NL.marchingcubesobj(data[xbounds[x]-1:xbounds[x+1],ybounds[y]-1:ybounds[y+1],:],val[k]-.1,objfile[k][xcenters.size*y+x],scale=(.88,.88,2.),center=(xcenters[x],ycenters[y],((i-1087/2.)*2+(i+20-1087/2.)*2)/2),vertexoffset=voff[k,xcenters.size*y+x],debug=False)\n",
    "                voff[k,xcenters.size*y+x] += vertcount\n",
    "                polycount[k,xcenters.size*y+x] += numpolly\n",
    "    print i\n",
    "dat = zeros((2287,2200,8))\n",
    "dat[:,:,0]=NL.loadtiff(baseIn+str(1080)+'.tif').reshape(2287,2200)\n",
    "dat[:,:,1]=NL.loadtiff(baseIn+str(1080+1)+'.tif').reshape(2287,2200)\n",
    "dat[:,:,2]=NL.loadtiff(baseIn+str(1080+2)+'.tif').reshape(2287,2200)\n",
    "dat[:,:,3]=NL.loadtiff(baseIn+str(1080+3)+'.tif').reshape(2287,2200)\n",
    "dat[:,:,4]=NL.loadtiff(baseIn+str(1080+4)+'.tif').reshape(2287,2200)\n",
    "dat[:,:,5]=NL.loadtiff(baseIn+str(1080+5)+'.tif').reshape(2287,2200)\n",
    "dat[:,:,6]=NL.loadtiff(baseIn+str(1080+6)+'.tif').reshape(2287,2200)\n",
    "dat[:,:,7]=NL.loadtiff(baseIn+str(1080+7)+'.tif').reshape(2287,2200)\n",
    "for i in xrange(len(val)):\n",
    "    for x in xrange(xcenters.size):\n",
    "        for y in xrange(ycenters.size):\n",
    "            NL.marchingcubesobj(dat[xbounds[x]-1:xbounds[x+1],ybounds[y]-1:ybounds[y+1],:],val[k]-.1,objfile[k][xcenters.size*y+x],scale=(.88,.88,2.),center=(xcenters[x],ycenters[y],2.*1080+7-1087.),vertexoffset=voff[k,xcenters.size*y+x],debug=False)\n",
    "            objfile[i][xcenters.size*y+x].close() "
   ]
  },
  {
   "cell_type": "code",
   "execution_count": 52,
   "metadata": {
    "collapsed": false
   },
   "outputs": [],
   "source": [
    "test = zeros_like(dat[xbounds[0]-1:xbounds[1],ybounds[0]-1:ybounds[1],:])\n",
    "test2 = zeros_like(dat[xbounds[0]-1:xbounds[1],ybounds[1]-1:ybounds[2],:])\n",
    "test3 = zeros_like(dat[xbounds[0]-1:xbounds[1],ybounds[2]-1:ybounds[3],:])"
   ]
  },
  {
   "cell_type": "code",
   "execution_count": 55,
   "metadata": {
    "collapsed": false
   },
   "outputs": [],
   "source": [
    "ymax=test.shape[1]-1\n",
    "ymax2=test2.shape[1]-1\n",
    "ymax3=test3.shape[1]-1"
   ]
  },
  {
   "cell_type": "code",
   "execution_count": 18,
   "metadata": {
    "collapsed": false
   },
   "outputs": [
    {
     "name": "stdout",
     "output_type": "stream",
     "text": [
      "Found 1 frames\n",
      "Wrote 1 PNGs\n",
      "Wrote 1 PNGs\n",
      "Wrote 1 PNGs\n",
      "Wrote 1 PNGs\n",
      "Wrote 1 PNGs\n",
      "Wrote 1 PNGs\n",
      "Wrote 1 PNGs\n",
      "Wrote 1 PNGs\n",
      "Wrote 1 PNGs\n",
      "Wrote 1 PNGs\n",
      "Wrote 1 PNGs\n",
      "Wrote 1 PNGs\n",
      "Wrote 1 PNGs\n",
      "Wrote 1 PNGs\n",
      "Wrote 1 PNGs\n",
      "Wrote 1 PNGs\n",
      "Wrote 1 PNGs\n",
      "Wrote 1 PNGs\n",
      "Wrote 1 PNGs\n",
      "Wrote 1 PNGs\n",
      "Wrote 1 PNGs\n",
      "Wrote 1 PNGs\n",
      "Wrote 1 PNGs\n",
      "Wrote 1 PNGs\n",
      "Wrote 1 PNGs\n",
      "Wrote 1 PNGs\n",
      "Wrote 1 PNGs\n",
      "Wrote 1 PNGs\n",
      "Wrote 1 PNGs\n",
      "Wrote 1 PNGs\n",
      "Wrote 1 PNGs\n",
      "Wrote 1 PNGs\n",
      "Wrote 1 PNGs\n",
      "Wrote 1 PNGs\n",
      "Wrote 1 PNGs\n",
      "Wrote 1 PNGs\n",
      "Wrote 1 PNGs\n",
      "Wrote 1 PNGs\n",
      "Wrote 1 PNGs\n",
      "Wrote 1 PNGs\n",
      "Wrote 1 PNGs\n",
      "Wrote 1 PNGs\n",
      "Wrote 1 PNGs\n",
      "Wrote 1 PNGs\n",
      "Wrote 1 PNGs\n",
      "Wrote 1 PNGs\n",
      "Wrote 1 PNGs\n",
      "Wrote 1 PNGs\n",
      "Wrote 1 PNGs\n",
      "Wrote 1 PNGs\n",
      "Wrote 1 PNGs\n",
      "Wrote 1 PNGs\n",
      "Wrote 1 PNGs\n",
      "Wrote 1 PNGs\n",
      "Wrote 1 PNGs\n",
      "Wrote 1 PNGs\n",
      "Wrote 1 PNGs\n",
      "Wrote 1 PNGs\n",
      "Wrote 1 PNGs\n",
      "Wrote 1 PNGs\n",
      "Wrote 1 PNGs\n",
      "Wrote 1 PNGs\n",
      "Wrote 1 PNGs\n",
      "Wrote 1 PNGs\n",
      "Wrote 1 PNGs\n",
      "Wrote 1 PNGs\n",
      "Wrote 1 PNGs\n",
      "Wrote 1 PNGs\n",
      "Wrote 1 PNGs\n",
      "Wrote 1 PNGs\n",
      "Wrote 1 PNGs\n",
      "Wrote 1 PNGs\n",
      "Wrote 1 PNGs\n",
      "Wrote 1 PNGs\n",
      "Wrote 1 PNGs\n",
      "Wrote 1 PNGs\n",
      "Wrote 1 PNGs\n",
      "Wrote 1 PNGs\n",
      "Wrote 1 PNGs\n",
      "Wrote 1 PNGs\n",
      "Wrote 1 PNGs\n",
      "Wrote 1 PNGs\n",
      "Wrote 1 PNGs\n",
      "Wrote 1 PNGs\n",
      "Wrote 1 PNGs\n",
      "Wrote 1 PNGs\n",
      "Wrote 1 PNGs\n",
      "Wrote 1 PNGs\n",
      "Wrote 1 PNGs\n",
      "Wrote 1 PNGs\n",
      "Wrote 1 PNGs\n",
      "Wrote 1 PNGs\n",
      "Wrote 1 PNGs\n",
      "Wrote 1 PNGs\n",
      "Wrote 1 PNGs\n",
      "Wrote 1 PNGs\n",
      "Wrote 1 PNGs\n",
      "Wrote 1 PNGs\n",
      "Wrote 1 PNGs\n",
      "Wrote 1 PNGs\n",
      "Wrote 1 PNGs\n",
      "Wrote 1 PNGs\n",
      "Wrote 1 PNGs\n",
      "Wrote 1 PNGs\n",
      "Wrote 1 PNGs\n",
      "Wrote 1 PNGs\n",
      "Wrote 1 PNGs\n",
      "Wrote 1 PNGs\n",
      "Wrote 1 PNGs\n",
      "Wrote 1 PNGs\n",
      "Wrote 1 PNGs\n",
      "Wrote 1 PNGs\n",
      "Wrote 1 PNGs\n",
      "Wrote 1 PNGs\n",
      "Wrote 1 PNGs\n",
      "Wrote 1 PNGs\n",
      "Wrote 1 PNGs\n",
      "Wrote 1 PNGs\n",
      "Wrote 1 PNGs\n",
      "Wrote 1 PNGs\n",
      "Wrote 1 PNGs\n",
      "Wrote 1 PNGs\n",
      "Wrote 1 PNGs\n",
      "Wrote 1 PNGs\n",
      "Wrote 1 PNGs\n",
      "Wrote 1 PNGs\n",
      "Wrote 1 PNGs\n",
      "Wrote 1 PNGs\n",
      "Wrote 1 PNGs\n",
      "Wrote 1 PNGs\n",
      "Wrote 1 PNGs\n",
      "Wrote 1 PNGs\n",
      "Wrote 1 PNGs\n",
      "Wrote 1 PNGs\n",
      "Wrote 1 PNGs\n",
      "Wrote 1 PNGs\n",
      "Wrote 1 PNGs\n",
      "Wrote 1 PNGs\n",
      "Wrote 1 PNGs\n",
      "Wrote 1 PNGs\n",
      "Wrote 1 PNGs\n",
      "Wrote 1 PNGs\n",
      "Wrote 1 PNGs\n",
      "Wrote 1 PNGs\n",
      "Wrote 1 PNGs\n",
      "Wrote 1 PNGs\n",
      "Wrote 1 PNGs\n",
      "Wrote 1 PNGs\n",
      "Wrote 1 PNGs\n",
      "Wrote 1 PNGs\n",
      "Wrote 1 PNGs\n",
      "Wrote 1 PNGs\n",
      "Wrote 1 PNGs\n",
      "Wrote 1 PNGs\n",
      "Wrote 1 PNGs\n",
      "Wrote 1 PNGs\n",
      "Wrote 1 PNGs\n",
      "Wrote 1 PNGs\n",
      "Wrote 1 PNGs\n",
      "Wrote 1 PNGs\n",
      "Wrote 1 PNGs\n",
      "Wrote 1 PNGs\n",
      "Wrote 1 PNGs\n",
      "Wrote 1 PNGs\n",
      "Wrote 1 PNGs\n",
      "Wrote 1 PNGs\n",
      "Wrote 1 PNGs\n",
      "Wrote 1 PNGs\n",
      "Wrote 1 PNGs\n",
      "Wrote 1 PNGs\n",
      "Wrote 1 PNGs\n",
      "Wrote 1 PNGs\n",
      "Wrote 1 PNGs\n",
      "Wrote 1 PNGs\n",
      "Wrote 1 PNGs\n",
      "Wrote 1 PNGs\n",
      "Wrote 1 PNGs\n",
      "Wrote 1 PNGs\n",
      "Wrote 1 PNGs\n",
      "Wrote 1 PNGs\n",
      "Wrote 1 PNGs\n",
      "Wrote 1 PNGs\n",
      "Wrote 1 PNGs\n",
      "Wrote 1 PNGs\n",
      "Wrote 1 PNGs\n",
      "Wrote 1 PNGs\n",
      "Wrote 1 PNGs\n",
      "Wrote 1 PNGs\n",
      "Wrote 1 PNGs\n",
      "Wrote 1 PNGs\n",
      "Wrote 1 PNGs\n",
      "Wrote 1 PNGs\n",
      "Wrote 1 PNGs\n",
      "Wrote 1 PNGs\n",
      "Wrote 1 PNGs\n",
      "Wrote 1 PNGs\n",
      "Wrote 1 PNGs\n",
      "Wrote 1 PNGs\n",
      "Wrote 1 PNGs\n",
      "Wrote 1 PNGs\n",
      "Wrote 1 PNGs\n",
      "Wrote 1 PNGs\n",
      "Wrote 1 PNGs\n",
      "Wrote 1 PNGs\n",
      "Wrote 1 PNGs\n",
      "Wrote 1 PNGs\n",
      "Wrote 1 PNGs\n",
      "Wrote 1 PNGs\n",
      "Wrote 1 PNGs\n",
      "Wrote 1 PNGs\n",
      "Wrote 1 PNGs\n",
      "Wrote 1 PNGs\n",
      "Wrote 1 PNGs\n",
      "Wrote 1 PNGs\n",
      "Wrote 1 PNGs\n",
      "Wrote 1 PNGs\n",
      "Wrote 1 PNGs\n",
      "Wrote 1 PNGs\n",
      "Wrote 1 PNGs\n",
      "Wrote 1 PNGs\n",
      "Wrote 1 PNGs\n",
      "Wrote 1 PNGs\n",
      "Wrote 1 PNGs\n",
      "Wrote 1 PNGs\n",
      "Wrote 1 PNGs\n",
      "Wrote 1 PNGs\n",
      "Wrote 1 PNGs\n",
      "Wrote 1 PNGs\n",
      "Wrote 1 PNGs\n",
      "Wrote 1 PNGs\n",
      "Wrote 1 PNGs\n",
      "Wrote 1 PNGs\n",
      "Wrote 1 PNGs\n",
      "Wrote 1 PNGs\n",
      "Wrote 1 PNGs\n",
      "Wrote 1 PNGs\n",
      "Wrote 1 PNGs\n",
      "Wrote 1 PNGs\n",
      "Wrote 1 PNGs\n",
      "Wrote 1 PNGs\n",
      "Wrote 1 PNGs\n",
      "Wrote 1 PNGs\n",
      "Wrote 1 PNGs\n",
      "Wrote 1 PNGs\n",
      "Wrote 1 PNGs\n",
      "Wrote 1 PNGs\n",
      "Wrote 1 PNGs\n",
      "Wrote 1 PNGs\n",
      "Wrote 1 PNGs\n",
      "Wrote 1 PNGs\n",
      "Wrote 1 PNGs\n",
      "Wrote 1 PNGs\n",
      "Wrote 1 PNGs\n",
      "Wrote 1 PNGs\n",
      "Wrote 1 PNGs\n"
     ]
    }
   ],
   "source": [
    "val = xrange(1,256)\n",
    "dat = NL.loadtiff(baseIn+('0500'+'.tif'))\n",
    "for i in val:\n",
    "    NL.printpngs(dat>=i,'/Volumes/TOSHIBA EXT/Neurodome/Raw Data/Thy1GFP/PNGs/test_'+str(i)+'_','.png')"
   ]
  },
  {
   "cell_type": "code",
   "execution_count": 27,
   "metadata": {
    "collapsed": false
   },
   "outputs": [
    {
     "data": {
      "text/plain": [
       "array([ -6.45480000e+02,  -4.40000000e-01,   6.44600000e+02])"
      ]
     },
     "execution_count": 27,
     "metadata": {},
     "output_type": "execute_result"
    }
   ],
   "source": []
  },
  {
   "cell_type": "code",
   "execution_count": 33,
   "metadata": {
    "collapsed": false
   },
   "outputs": [
    {
     "data": {
      "text/plain": [
       "array([ -6.71000000e+02,  -4.40000000e-01,   6.70120000e+02])"
      ]
     },
     "execution_count": 33,
     "metadata": {},
     "output_type": "execute_result"
    }
   ],
   "source": [
    ".88*((xbounds[:-1]-1+xbounds[1:]-1)/2.-data.shape[0]/2.)"
   ]
  },
  {
   "cell_type": "code",
   "execution_count": 34,
   "metadata": {
    "collapsed": false
   },
   "outputs": [
    {
     "data": {
      "text/plain": [
       "array([ -6.71000000e+02,  -4.40000000e-01,   6.70120000e+02])"
      ]
     },
     "execution_count": 34,
     "metadata": {},
     "output_type": "execute_result"
    }
   ],
   "source": [
    "xcenters"
   ]
  },
  {
   "cell_type": "code",
   "execution_count": 9,
   "metadata": {
    "collapsed": false
   },
   "outputs": [
    {
     "data": {
      "text/plain": [
       "array([  0.00000000e+00,   5.29100529e-03,   1.05820106e-02,\n",
       "         1.58730159e-02,   2.11640212e-02,   2.64550265e-02,\n",
       "         3.17460317e-02,   3.70370370e-02,   4.23280423e-02,\n",
       "         4.76190476e-02,   5.29100529e-02,   5.82010582e-02,\n",
       "         6.34920635e-02,   6.87830688e-02,   7.40740741e-02,\n",
       "         7.93650794e-02,   8.46560847e-02,   8.99470899e-02,\n",
       "         9.52380952e-02,   1.00529101e-01,   1.05820106e-01,\n",
       "         1.11111111e-01,   1.16402116e-01,   1.21693122e-01,\n",
       "         1.26984127e-01,   1.32275132e-01,   1.37566138e-01,\n",
       "         1.42857143e-01,   1.48148148e-01,   1.53439153e-01,\n",
       "         1.58730159e-01,   1.64021164e-01,   1.69312169e-01,\n",
       "         1.74603175e-01,   1.79894180e-01,   1.85185185e-01,\n",
       "         1.90476190e-01,   1.95767196e-01,   2.01058201e-01,\n",
       "         2.06349206e-01,   2.11640212e-01,   2.16931217e-01,\n",
       "         2.22222222e-01,   2.27513228e-01,   2.32804233e-01,\n",
       "         2.38095238e-01,   2.43386243e-01,   2.48677249e-01,\n",
       "         2.53968254e-01,   2.59259259e-01,   2.64550265e-01,\n",
       "         2.69841270e-01,   2.75132275e-01,   2.80423280e-01,\n",
       "         2.85714286e-01,   2.91005291e-01,   2.96296296e-01,\n",
       "         3.01587302e-01,   3.06878307e-01,   3.12169312e-01,\n",
       "         3.17460317e-01,   3.22751323e-01,   3.28042328e-01,\n",
       "         3.33333333e-01,   3.38624339e-01,   3.43915344e-01,\n",
       "         3.49206349e-01,   3.54497354e-01,   3.59788360e-01,\n",
       "         3.65079365e-01,   3.70370370e-01,   3.75661376e-01,\n",
       "         3.80952381e-01,   3.86243386e-01,   3.91534392e-01,\n",
       "         3.96825397e-01,   4.02116402e-01,   4.07407407e-01,\n",
       "         4.12698413e-01,   4.17989418e-01,   4.23280423e-01,\n",
       "         4.28571429e-01,   4.33862434e-01,   4.39153439e-01,\n",
       "         4.44444444e-01,   4.49735450e-01,   4.55026455e-01,\n",
       "         4.60317460e-01,   4.65608466e-01,   4.70899471e-01,\n",
       "         4.76190476e-01,   4.81481481e-01,   4.86772487e-01,\n",
       "         4.92063492e-01,   4.97354497e-01,   5.02645503e-01,\n",
       "         5.07936508e-01,   5.13227513e-01,   5.18518519e-01,\n",
       "         5.23809524e-01,   5.29100529e-01,   5.34391534e-01,\n",
       "         5.39682540e-01,   5.44973545e-01,   5.50264550e-01,\n",
       "         5.55555556e-01,   5.60846561e-01,   5.66137566e-01,\n",
       "         5.71428571e-01,   5.76719577e-01,   5.82010582e-01,\n",
       "         5.87301587e-01,   5.92592593e-01,   5.97883598e-01,\n",
       "         6.03174603e-01,   6.08465608e-01,   6.13756614e-01,\n",
       "         6.19047619e-01,   6.24338624e-01,   6.29629630e-01,\n",
       "         6.34920635e-01,   6.40211640e-01,   6.45502646e-01,\n",
       "         6.50793651e-01,   6.56084656e-01,   6.61375661e-01,\n",
       "         6.66666667e-01,   6.71957672e-01,   6.77248677e-01,\n",
       "         6.82539683e-01,   6.87830688e-01,   6.93121693e-01,\n",
       "         6.98412698e-01,   7.03703704e-01,   7.08994709e-01,\n",
       "         7.14285714e-01,   7.19576720e-01,   7.24867725e-01,\n",
       "         7.30158730e-01,   7.35449735e-01,   7.40740741e-01,\n",
       "         7.46031746e-01,   7.51322751e-01,   7.56613757e-01,\n",
       "         7.61904762e-01,   7.67195767e-01,   7.72486772e-01,\n",
       "         7.77777778e-01,   7.83068783e-01,   7.88359788e-01,\n",
       "         7.93650794e-01,   7.98941799e-01,   8.04232804e-01,\n",
       "         8.09523810e-01,   8.14814815e-01,   8.20105820e-01,\n",
       "         8.25396825e-01,   8.30687831e-01,   8.35978836e-01,\n",
       "         8.41269841e-01,   8.46560847e-01,   8.51851852e-01,\n",
       "         8.57142857e-01,   8.62433862e-01,   8.67724868e-01,\n",
       "         8.73015873e-01,   8.78306878e-01,   8.83597884e-01,\n",
       "         8.88888889e-01,   8.94179894e-01,   8.99470899e-01,\n",
       "         9.04761905e-01,   9.10052910e-01,   9.15343915e-01,\n",
       "         9.20634921e-01,   9.25925926e-01,   9.31216931e-01,\n",
       "         9.36507937e-01,   9.41798942e-01,   9.47089947e-01,\n",
       "         9.52380952e-01,   9.57671958e-01,   9.62962963e-01,\n",
       "         9.68253968e-01,   9.73544974e-01,   9.78835979e-01,\n",
       "         9.84126984e-01,   9.89417989e-01,   9.94708995e-01,\n",
       "         1.00000000e+00,   1.00529101e+00,   1.01058201e+00,\n",
       "         1.01587302e+00,   1.02116402e+00,   1.02645503e+00,\n",
       "         1.03174603e+00,   1.03703704e+00,   1.04232804e+00,\n",
       "         1.04761905e+00,   1.05291005e+00,   1.05820106e+00,\n",
       "         1.06349206e+00,   1.06878307e+00,   1.07407407e+00,\n",
       "         1.07936508e+00,   1.08465608e+00,   1.08994709e+00,\n",
       "         1.09523810e+00,   1.10052910e+00,   1.11111111e+00,\n",
       "         1.12169312e+00,   1.13227513e+00,   2.00000000e+00,\n",
       "         3.00000000e+00,   4.00000000e+00,   5.00000000e+00,\n",
       "         6.00000000e+00,   7.00000000e+00,   8.00000000e+00,\n",
       "         9.00000000e+00,   1.00000000e+01,   1.10000000e+01,\n",
       "         1.20000000e+01,   1.30000000e+01,   1.40000000e+01,\n",
       "         1.50000000e+01,   1.60000000e+01,   1.70000000e+01,\n",
       "         1.80000000e+01,   1.90000000e+01,   2.00000000e+01,\n",
       "         2.10000000e+01,   2.20000000e+01,   2.30000000e+01,\n",
       "         2.40000000e+01,   2.50000000e+01,   2.60000000e+01,\n",
       "         2.70000000e+01,   2.80000000e+01,   2.90000000e+01,\n",
       "         3.00000000e+01,   3.10000000e+01,   3.20000000e+01,\n",
       "         3.30000000e+01,   3.40000000e+01,   3.50000000e+01,\n",
       "         3.60000000e+01,   3.70000000e+01,   3.80000000e+01,\n",
       "         3.90000000e+01,   4.00000000e+01,   4.10000000e+01,\n",
       "         4.20000000e+01,   4.30000000e+01,   4.40000000e+01,\n",
       "         4.50000000e+01,   4.60000000e+01,   4.70000000e+01,\n",
       "         4.80000000e+01,   4.90000000e+01,   5.00000000e+01,\n",
       "         5.10000000e+01,   5.20000000e+01,   5.30000000e+01,\n",
       "         5.40000000e+01,   5.50000000e+01,   5.60000000e+01,\n",
       "         5.70000000e+01,   5.80000000e+01,   5.90000000e+01,\n",
       "         6.00000000e+01,   6.10000000e+01,   6.20000000e+01,\n",
       "         6.30000000e+01,   6.40000000e+01,   6.50000000e+01,\n",
       "         6.60000000e+01,   6.70000000e+01,   6.80000000e+01,\n",
       "         6.90000000e+01,   7.00000000e+01,   7.10000000e+01,\n",
       "         7.20000000e+01,   7.30000000e+01,   7.40000000e+01,\n",
       "         7.50000000e+01,   7.60000000e+01,   7.70000000e+01,\n",
       "         7.80000000e+01,   7.90000000e+01,   8.00000000e+01,\n",
       "         8.10000000e+01,   8.20000000e+01,   8.30000000e+01,\n",
       "         8.40000000e+01,   8.50000000e+01,   8.60000000e+01,\n",
       "         8.70000000e+01,   8.80000000e+01,   8.90000000e+01,\n",
       "         9.00000000e+01,   9.10000000e+01,   9.20000000e+01,\n",
       "         9.30000000e+01,   9.40000000e+01,   9.50000000e+01,\n",
       "         9.60000000e+01,   9.70000000e+01,   9.80000000e+01,\n",
       "         9.90000000e+01,   1.00000000e+02,   1.01000000e+02,\n",
       "         1.02000000e+02,   1.03000000e+02,   1.04000000e+02,\n",
       "         1.05000000e+02,   1.06000000e+02,   1.07000000e+02,\n",
       "         1.08000000e+02,   1.09000000e+02,   1.10000000e+02,\n",
       "         1.11000000e+02,   1.12000000e+02,   1.13000000e+02,\n",
       "         1.14000000e+02,   1.15000000e+02,   1.16000000e+02,\n",
       "         1.17000000e+02,   1.18000000e+02,   1.19000000e+02,\n",
       "         1.20000000e+02,   1.21000000e+02,   1.22000000e+02,\n",
       "         1.23000000e+02,   1.24000000e+02,   1.25000000e+02,\n",
       "         1.26000000e+02,   1.27000000e+02,   1.28000000e+02,\n",
       "         1.29000000e+02,   1.30000000e+02,   1.31000000e+02,\n",
       "         1.32000000e+02,   1.33000000e+02,   1.34000000e+02,\n",
       "         1.35000000e+02,   1.36000000e+02,   1.37000000e+02,\n",
       "         1.38000000e+02,   1.39000000e+02,   1.40000000e+02,\n",
       "         1.41000000e+02,   1.42000000e+02,   1.43000000e+02,\n",
       "         1.44000000e+02,   1.45000000e+02,   1.46000000e+02,\n",
       "         1.47000000e+02,   1.48000000e+02,   1.49000000e+02,\n",
       "         1.50000000e+02,   1.51000000e+02,   1.52000000e+02,\n",
       "         1.53000000e+02,   1.54000000e+02,   1.55000000e+02,\n",
       "         1.56000000e+02,   1.57000000e+02,   1.58000000e+02,\n",
       "         1.59000000e+02,   1.60000000e+02,   1.61000000e+02,\n",
       "         1.62000000e+02,   1.63000000e+02,   1.64000000e+02,\n",
       "         1.65000000e+02,   1.66000000e+02,   1.67000000e+02,\n",
       "         1.68000000e+02,   1.69000000e+02,   1.70000000e+02,\n",
       "         1.71000000e+02,   1.72000000e+02,   1.73000000e+02,\n",
       "         1.74000000e+02,   1.75000000e+02,   1.76000000e+02,\n",
       "         1.77000000e+02,   1.78000000e+02,   1.79000000e+02,\n",
       "         1.80000000e+02,   1.81000000e+02,   1.82000000e+02,\n",
       "         1.83000000e+02,   1.84000000e+02,   1.85000000e+02,\n",
       "         1.86000000e+02,   1.87000000e+02,   1.88000000e+02,\n",
       "         1.89000000e+02,   1.90000000e+02,   1.91000000e+02,\n",
       "         1.92000000e+02,   1.93000000e+02,   1.94000000e+02,\n",
       "         1.95000000e+02,   1.96000000e+02,   1.97000000e+02,\n",
       "         1.98000000e+02,   1.99000000e+02,   2.00000000e+02,\n",
       "         2.01000000e+02,   2.02000000e+02,   2.03000000e+02,\n",
       "         2.04000000e+02,   2.05000000e+02,   2.06000000e+02,\n",
       "         2.07000000e+02,   2.08000000e+02,   2.09000000e+02,\n",
       "         2.10000000e+02,   2.11000000e+02,   2.12000000e+02,\n",
       "         2.13000000e+02,   2.14000000e+02,   2.15000000e+02,\n",
       "         2.16000000e+02,   2.17000000e+02,   2.18000000e+02,\n",
       "         2.19000000e+02,   2.21000000e+02,   2.23000000e+02,\n",
       "         2.25000000e+02])"
      ]
     },
     "execution_count": 9,
     "metadata": {},
     "output_type": "execute_result"
    }
   ],
   "source": [
    "unique(data)"
   ]
  },
  {
   "cell_type": "code",
   "execution_count": 11,
   "metadata": {
    "collapsed": false
   },
   "outputs": [
    {
     "data": {
      "text/plain": [
       "[[], [], []]"
      ]
     },
     "execution_count": 11,
     "metadata": {},
     "output_type": "execute_result"
    }
   ],
   "source": [
    "objfile"
   ]
  },
  {
   "cell_type": "code",
   "execution_count": 2,
   "metadata": {
    "collapsed": false
   },
   "outputs": [],
   "source": [
    "test = linspace(0,5,6)"
   ]
  },
  {
   "cell_type": "code",
   "execution_count": 3,
   "metadata": {
    "collapsed": false
   },
   "outputs": [
    {
     "data": {
      "text/plain": [
       "array([ 0.,  1.,  2.,  3.,  4.,  5.])"
      ]
     },
     "execution_count": 3,
     "metadata": {},
     "output_type": "execute_result"
    }
   ],
   "source": [
    "test"
   ]
  },
  {
   "cell_type": "code",
   "execution_count": 5,
   "metadata": {
    "collapsed": false
   },
   "outputs": [
    {
     "data": {
      "text/plain": [
       "array([ 1.,  3.,  5.,  7.,  9.])"
      ]
     },
     "execution_count": 5,
     "metadata": {},
     "output_type": "execute_result"
    }
   ],
   "source": [
    "test[:-1]+test[1:]"
   ]
  },
  {
   "cell_type": "code",
   "execution_count": 10,
   "metadata": {
    "collapsed": false
   },
   "outputs": [],
   "source": [
    "floor?"
   ]
  },
  {
   "cell_type": "code",
   "execution_count": 11,
   "metadata": {
    "collapsed": false
   },
   "outputs": [
    {
     "data": {
      "text/plain": [
       "(array([2]),)"
      ]
     },
     "execution_count": 11,
     "metadata": {},
     "output_type": "execute_result"
    }
   ],
   "source": [
    "where(test==2)"
   ]
  },
  {
   "cell_type": "code",
   "execution_count": 14,
   "metadata": {
    "collapsed": false
   },
   "outputs": [
    {
     "ename": "ValueError",
     "evalue": "The truth value of an array with more than one element is ambiguous. Use a.any() or a.all()",
     "output_type": "error",
     "traceback": [
      "\u001b[0;31m---------------------------------------------------------------------------\u001b[0m\n\u001b[0;31mValueError\u001b[0m                                Traceback (most recent call last)",
      "\u001b[0;32m<ipython-input-14-34239097a272>\u001b[0m in \u001b[0;36m<module>\u001b[0;34m()\u001b[0m\n\u001b[0;32m----> 1\u001b[0;31m \u001b[0;32mif\u001b[0m \u001b[0mtest\u001b[0m\u001b[0;34m==\u001b[0m\u001b[0;36m2\u001b[0m\u001b[0;34m:\u001b[0m\u001b[0;34m\u001b[0m\u001b[0m\n\u001b[0m\u001b[1;32m      2\u001b[0m     \u001b[0;32mprint\u001b[0m \u001b[0;34m\"yay\"\u001b[0m\u001b[0;34m\u001b[0m\u001b[0m\n\u001b[1;32m      3\u001b[0m \u001b[0;32mif\u001b[0m \u001b[0mtest\u001b[0m\u001b[0;34m==\u001b[0m\u001b[0;36m313\u001b[0m\u001b[0;34m:\u001b[0m\u001b[0;34m\u001b[0m\u001b[0m\n\u001b[1;32m      4\u001b[0m     \u001b[0;32mprint\u001b[0m\u001b[0;34m\"nooo\"\u001b[0m\u001b[0;34m\u001b[0m\u001b[0m\n",
      "\u001b[0;31mValueError\u001b[0m: The truth value of an array with more than one element is ambiguous. Use a.any() or a.all()"
     ]
    }
   ],
   "source": [
    "if test==2:\n",
    "    print \"yay\"\n",
    "if test==313:\n",
    "    print\"nooo\""
   ]
  },
  {
   "cell_type": "code",
   "execution_count": 14,
   "metadata": {
    "collapsed": false
   },
   "outputs": [
    {
     "data": {
      "text/plain": [
       "<module 'NeurodomeLibrary' from 'NeurodomeLibrary.py'>"
      ]
     },
     "execution_count": 14,
     "metadata": {},
     "output_type": "execute_result"
    }
   ],
   "source": [
    "reload(NL)"
   ]
  },
  {
   "cell_type": "code",
   "execution_count": 22,
   "metadata": {
    "collapsed": false
   },
   "outputs": [
    {
     "name": "stdout",
     "output_type": "stream",
     "text": [
      "Found 1 frames\n",
      "Found 1 frames\n",
      "Found 1 frames\n",
      "Found 1 frames\n",
      "Found 1 frames\n",
      "Found 1 frames\n",
      "Found 1 frames\n",
      "Found 1 frames\n"
     ]
    }
   ],
   "source": [
    "dat = zeros((2287,2200,8))\n",
    "dat[:,:,0]=NL.loadtiff(base+str(1080)+'.tif').reshape(2287,2200)\n",
    "dat[:,:,1]=NL.loadtiff(base+str(1080+1)+'.tif').reshape(2287,2200)\n",
    "dat[:,:,2]=NL.loadtiff(base+str(1080+2)+'.tif').reshape(2287,2200)\n",
    "dat[:,:,3]=NL.loadtiff(base+str(1080+3)+'.tif').reshape(2287,2200)\n",
    "dat[:,:,4]=NL.loadtiff(base+str(1080+4)+'.tif').reshape(2287,2200)\n",
    "dat[:,:,5]=NL.loadtiff(base+str(1080+5)+'.tif').reshape(2287,2200)\n",
    "dat[:,:,6]=NL.loadtiff(base+str(1080+6)+'.tif').reshape(2287,2200)\n",
    "dat[:,:,7]=NL.loadtiff(base+str(1080+7)+'.tif').reshape(2287,2200)\n",
    "for i in xrange(len(val)):\n",
    "    for x in xrange(xcenters.size):\n",
    "        for y in xrange(ycenters.size):\n",
    "            NL.marchingcubesobj(dat[xbounds[x]-1:xbounds[x+1],ybounds[y]-1:ybounds[y+1],:],val[k]-.1,objfile[k][xcenters.size*y+x],scale=(.88,.88,2.),center=(xcenters[x],ycenters[y],2.*1080+7-1087.),vertexoffset=voff[k,xcenters.size*y+x],debug=False)\n",
    "            objfile[i][xcenters.size*y+x].close() "
   ]
  },
  {
   "cell_type": "code",
   "execution_count": 56,
   "metadata": {
    "collapsed": false
   },
   "outputs": [
    {
     "name": "stdout",
     "output_type": "stream",
     "text": [
      "-323.4\n",
      "-323.4\n",
      "321.64\n",
      "321.64\n"
     ]
    }
   ],
   "source": [
    "print (ymax-test.shape[1]/2.)*.88+ycenters[0]\n",
    "print (0-test2.shape[1]/2.)*.88+ycenters[1]\n",
    "print (ymax2-test2.shape[1]/2.)*.88+ycenters[1]\n",
    "print (0-test3.shape[1]/2.)*.88+ycenters[2]"
   ]
  },
  {
   "cell_type": "code",
   "execution_count": 62,
   "metadata": {
    "collapsed": false
   },
   "outputs": [
    {
     "data": {
      "text/plain": [
       "<module 'NeurodomeLibrary' from 'NeurodomeLibrary.py'>"
      ]
     },
     "execution_count": 62,
     "metadata": {},
     "output_type": "execute_result"
    }
   ],
   "source": [
    "reload(NL)"
   ]
  },
  {
   "cell_type": "code",
   "execution_count": 64,
   "metadata": {
    "collapsed": false
   },
   "outputs": [
    {
     "data": {
      "text/plain": [
       "array([[ 0.,  0.,  0.,  0.,  0.,  0.,  0.,  0.,  0.]])"
      ]
     },
     "execution_count": 64,
     "metadata": {},
     "output_type": "execute_result"
    }
   ],
   "source": [
    "polycount"
   ]
  },
  {
   "cell_type": "code",
   "execution_count": 3,
   "metadata": {
    "collapsed": false
   },
   "outputs": [],
   "source": [
    "zfiles=zeros_like(polycount)"
   ]
  },
  {
   "cell_type": "code",
   "execution_count": 5,
   "metadata": {
    "collapsed": false
   },
   "outputs": [
    {
     "data": {
      "text/plain": [
       "(1, 9)"
      ]
     },
     "execution_count": 5,
     "metadata": {},
     "output_type": "execute_result"
    }
   ],
   "source": [
    "zfiles.shape"
   ]
  },
  {
   "cell_type": "code",
   "execution_count": 6,
   "metadata": {
    "collapsed": false
   },
   "outputs": [
    {
     "data": {
      "text/plain": [
       "(array([0, 0, 0, 0, 0, 0, 0, 0, 0]), array([0, 1, 2, 3, 4, 5, 6, 7, 8]))"
      ]
     },
     "execution_count": 6,
     "metadata": {},
     "output_type": "execute_result"
    }
   ],
   "source": [
    "where(zfiles==0)"
   ]
  },
  {
   "cell_type": "code",
   "execution_count": 8,
   "metadata": {
    "collapsed": false
   },
   "outputs": [
    {
     "data": {
      "text/plain": [
       "1.0"
      ]
     },
     "execution_count": 8,
     "metadata": {},
     "output_type": "execute_result"
    }
   ],
   "source": [
    "floor(1.01)"
   ]
  },
  {
   "cell_type": "code",
   "execution_count": 17,
   "metadata": {
    "collapsed": false
   },
   "outputs": [],
   "source": [
    "f = !ls /Volumes/TOSHIBA\\ EXT/Neurodome/Processed\\ Stuff/Gerry\\ SurfacesThy1GFP*.obj"
   ]
  },
  {
   "cell_type": "code",
   "execution_count": 47,
   "metadata": {
    "collapsed": false,
    "scrolled": true
   },
   "outputs": [
    {
     "name": "stdout",
     "output_type": "stream",
     "text": [
      "usage: mv [-f | -i | -n] [-v] source target\n",
      "       mv [-f | -i | -n] [-v] source ... directory\n",
      "usage: mv [-f | -i | -n] [-v] source target\n",
      "       mv [-f | -i | -n] [-v] source ... directory\n",
      "usage: mv [-f | -i | -n] [-v] source target\n",
      "       mv [-f | -i | -n] [-v] source ... directory\n",
      "usage: mv [-f | -i | -n] [-v] source target\n",
      "       mv [-f | -i | -n] [-v] source ... directory\n",
      "usage: mv [-f | -i | -n] [-v] source target\n",
      "       mv [-f | -i | -n] [-v] source ... directory\n",
      "usage: mv [-f | -i | -n] [-v] source target\n",
      "       mv [-f | -i | -n] [-v] source ... directory\n",
      "usage: mv [-f | -i | -n] [-v] source target\n",
      "       mv [-f | -i | -n] [-v] source ... directory\n",
      "usage: mv [-f | -i | -n] [-v] source target\n",
      "       mv [-f | -i | -n] [-v] source ... directory\n",
      "usage: mv [-f | -i | -n] [-v] source target\n",
      "       mv [-f | -i | -n] [-v] source ... directory\n",
      "usage: mv [-f | -i | -n] [-v] source target\n",
      "       mv [-f | -i | -n] [-v] source ... directory\n",
      "usage: mv [-f | -i | -n] [-v] source target\n",
      "       mv [-f | -i | -n] [-v] source ... directory\n",
      "usage: mv [-f | -i | -n] [-v] source target\n",
      "       mv [-f | -i | -n] [-v] source ... directory\n",
      "usage: mv [-f | -i | -n] [-v] source target\n",
      "       mv [-f | -i | -n] [-v] source ... directory\n",
      "usage: mv [-f | -i | -n] [-v] source target\n",
      "       mv [-f | -i | -n] [-v] source ... directory\n",
      "usage: mv [-f | -i | -n] [-v] source target\n",
      "       mv [-f | -i | -n] [-v] source ... directory\n",
      "usage: mv [-f | -i | -n] [-v] source target\n",
      "       mv [-f | -i | -n] [-v] source ... directory\n",
      "usage: mv [-f | -i | -n] [-v] source target\n",
      "       mv [-f | -i | -n] [-v] source ... directory\n",
      "usage: mv [-f | -i | -n] [-v] source target\n",
      "       mv [-f | -i | -n] [-v] source ... directory\n",
      "usage: mv [-f | -i | -n] [-v] source target\n",
      "       mv [-f | -i | -n] [-v] source ... directory\n",
      "usage: mv [-f | -i | -n] [-v] source target\n",
      "       mv [-f | -i | -n] [-v] source ... directory\n",
      "usage: mv [-f | -i | -n] [-v] source target\n",
      "       mv [-f | -i | -n] [-v] source ... directory\n",
      "usage: mv [-f | -i | -n] [-v] source target\n",
      "       mv [-f | -i | -n] [-v] source ... directory\n",
      "usage: mv [-f | -i | -n] [-v] source target\n",
      "       mv [-f | -i | -n] [-v] source ... directory\n",
      "usage: mv [-f | -i | -n] [-v] source target\n",
      "       mv [-f | -i | -n] [-v] source ... directory\n",
      "usage: mv [-f | -i | -n] [-v] source target\n",
      "       mv [-f | -i | -n] [-v] source ... directory\n",
      "usage: mv [-f | -i | -n] [-v] source target\n",
      "       mv [-f | -i | -n] [-v] source ... directory\n",
      "usage: mv [-f | -i | -n] [-v] source target\n",
      "       mv [-f | -i | -n] [-v] source ... directory\n",
      "usage: mv [-f | -i | -n] [-v] source target\n",
      "       mv [-f | -i | -n] [-v] source ... directory\n",
      "usage: mv [-f | -i | -n] [-v] source target\n",
      "       mv [-f | -i | -n] [-v] source ... directory\n",
      "usage: mv [-f | -i | -n] [-v] source target\n",
      "       mv [-f | -i | -n] [-v] source ... directory\n",
      "usage: mv [-f | -i | -n] [-v] source target\n",
      "       mv [-f | -i | -n] [-v] source ... directory\n",
      "usage: mv [-f | -i | -n] [-v] source target\n",
      "       mv [-f | -i | -n] [-v] source ... directory\n",
      "usage: mv [-f | -i | -n] [-v] source target\n",
      "       mv [-f | -i | -n] [-v] source ... directory\n",
      "usage: mv [-f | -i | -n] [-v] source target\n",
      "       mv [-f | -i | -n] [-v] source ... directory\n",
      "usage: mv [-f | -i | -n] [-v] source target\n",
      "       mv [-f | -i | -n] [-v] source ... directory\n",
      "usage: mv [-f | -i | -n] [-v] source target\n",
      "       mv [-f | -i | -n] [-v] source ... directory\n",
      "usage: mv [-f | -i | -n] [-v] source target\n",
      "       mv [-f | -i | -n] [-v] source ... directory\n",
      "usage: mv [-f | -i | -n] [-v] source target\n",
      "       mv [-f | -i | -n] [-v] source ... directory\n",
      "usage: mv [-f | -i | -n] [-v] source target\n",
      "       mv [-f | -i | -n] [-v] source ... directory\n",
      "usage: mv [-f | -i | -n] [-v] source target\n",
      "       mv [-f | -i | -n] [-v] source ... directory\n",
      "usage: mv [-f | -i | -n] [-v] source target\n",
      "       mv [-f | -i | -n] [-v] source ... directory\n",
      "usage: mv [-f | -i | -n] [-v] source target\n",
      "       mv [-f | -i | -n] [-v] source ... directory\n",
      "usage: mv [-f | -i | -n] [-v] source target\n",
      "       mv [-f | -i | -n] [-v] source ... directory\n",
      "usage: mv [-f | -i | -n] [-v] source target\n",
      "       mv [-f | -i | -n] [-v] source ... directory\n",
      "usage: mv [-f | -i | -n] [-v] source target\n",
      "       mv [-f | -i | -n] [-v] source ... directory\n",
      "usage: mv [-f | -i | -n] [-v] source target\n",
      "       mv [-f | -i | -n] [-v] source ... directory\n",
      "usage: mv [-f | -i | -n] [-v] source target\n",
      "       mv [-f | -i | -n] [-v] source ... directory\n",
      "usage: mv [-f | -i | -n] [-v] source target\n",
      "       mv [-f | -i | -n] [-v] source ... directory\n",
      "usage: mv [-f | -i | -n] [-v] source target\n",
      "       mv [-f | -i | -n] [-v] source ... directory\n",
      "usage: mv [-f | -i | -n] [-v] source target\n",
      "       mv [-f | -i | -n] [-v] source ... directory\n",
      "usage: mv [-f | -i | -n] [-v] source target\n",
      "       mv [-f | -i | -n] [-v] source ... directory\n",
      "usage: mv [-f | -i | -n] [-v] source target\n",
      "       mv [-f | -i | -n] [-v] source ... directory\n",
      "usage: mv [-f | -i | -n] [-v] source target\n",
      "       mv [-f | -i | -n] [-v] source ... directory\n",
      "usage: mv [-f | -i | -n] [-v] source target\n",
      "       mv [-f | -i | -n] [-v] source ... directory\n",
      "usage: mv [-f | -i | -n] [-v] source target\n",
      "       mv [-f | -i | -n] [-v] source ... directory\n",
      "usage: mv [-f | -i | -n] [-v] source target\n",
      "       mv [-f | -i | -n] [-v] source ... directory\n",
      "usage: mv [-f | -i | -n] [-v] source target\n",
      "       mv [-f | -i | -n] [-v] source ... directory\n",
      "usage: mv [-f | -i | -n] [-v] source target\n",
      "       mv [-f | -i | -n] [-v] source ... directory\n",
      "usage: mv [-f | -i | -n] [-v] source target\n",
      "       mv [-f | -i | -n] [-v] source ... directory\n",
      "usage: mv [-f | -i | -n] [-v] source target\n",
      "       mv [-f | -i | -n] [-v] source ... directory\n",
      "usage: mv [-f | -i | -n] [-v] source target\n",
      "       mv [-f | -i | -n] [-v] source ... directory\n",
      "usage: mv [-f | -i | -n] [-v] source target\n",
      "       mv [-f | -i | -n] [-v] source ... directory\n",
      "usage: mv [-f | -i | -n] [-v] source target\n",
      "       mv [-f | -i | -n] [-v] source ... directory\n",
      "usage: mv [-f | -i | -n] [-v] source target\n",
      "       mv [-f | -i | -n] [-v] source ... directory\n",
      "usage: mv [-f | -i | -n] [-v] source target\n",
      "       mv [-f | -i | -n] [-v] source ... directory\n",
      "usage: mv [-f | -i | -n] [-v] source target\n",
      "       mv [-f | -i | -n] [-v] source ... directory\n",
      "usage: mv [-f | -i | -n] [-v] source target\n",
      "       mv [-f | -i | -n] [-v] source ... directory\n",
      "usage: mv [-f | -i | -n] [-v] source target\n",
      "       mv [-f | -i | -n] [-v] source ... directory\n",
      "usage: mv [-f | -i | -n] [-v] source target\n",
      "       mv [-f | -i | -n] [-v] source ... directory\n",
      "usage: mv [-f | -i | -n] [-v] source target\n",
      "       mv [-f | -i | -n] [-v] source ... directory\n",
      "usage: mv [-f | -i | -n] [-v] source target\n",
      "       mv [-f | -i | -n] [-v] source ... directory\n",
      "usage: mv [-f | -i | -n] [-v] source target\n",
      "       mv [-f | -i | -n] [-v] source ... directory\n",
      "usage: mv [-f | -i | -n] [-v] source target\n",
      "       mv [-f | -i | -n] [-v] source ... directory\n",
      "usage: mv [-f | -i | -n] [-v] source target\n",
      "       mv [-f | -i | -n] [-v] source ... directory\n",
      "usage: mv [-f | -i | -n] [-v] source target\n",
      "       mv [-f | -i | -n] [-v] source ... directory\n",
      "usage: mv [-f | -i | -n] [-v] source target\n",
      "       mv [-f | -i | -n] [-v] source ... directory\n",
      "usage: mv [-f | -i | -n] [-v] source target\n",
      "       mv [-f | -i | -n] [-v] source ... directory\n",
      "usage: mv [-f | -i | -n] [-v] source target\n",
      "       mv [-f | -i | -n] [-v] source ... directory\n",
      "usage: mv [-f | -i | -n] [-v] source target\n",
      "       mv [-f | -i | -n] [-v] source ... directory\n",
      "usage: mv [-f | -i | -n] [-v] source target\n",
      "       mv [-f | -i | -n] [-v] source ... directory\n",
      "usage: mv [-f | -i | -n] [-v] source target\n",
      "       mv [-f | -i | -n] [-v] source ... directory\n",
      "usage: mv [-f | -i | -n] [-v] source target\n",
      "       mv [-f | -i | -n] [-v] source ... directory\n",
      "usage: mv [-f | -i | -n] [-v] source target\n",
      "       mv [-f | -i | -n] [-v] source ... directory\n",
      "usage: mv [-f | -i | -n] [-v] source target\n",
      "       mv [-f | -i | -n] [-v] source ... directory\n",
      "usage: mv [-f | -i | -n] [-v] source target\n",
      "       mv [-f | -i | -n] [-v] source ... directory\n",
      "usage: mv [-f | -i | -n] [-v] source target\n",
      "       mv [-f | -i | -n] [-v] source ... directory\n",
      "usage: mv [-f | -i | -n] [-v] source target\n",
      "       mv [-f | -i | -n] [-v] source ... directory\n",
      "usage: mv [-f | -i | -n] [-v] source target\n",
      "       mv [-f | -i | -n] [-v] source ... directory\n",
      "usage: mv [-f | -i | -n] [-v] source target\n",
      "       mv [-f | -i | -n] [-v] source ... directory\n",
      "usage: mv [-f | -i | -n] [-v] source target\n",
      "       mv [-f | -i | -n] [-v] source ... directory\n",
      "usage: mv [-f | -i | -n] [-v] source target\n",
      "       mv [-f | -i | -n] [-v] source ... directory\n",
      "usage: mv [-f | -i | -n] [-v] source target\n",
      "       mv [-f | -i | -n] [-v] source ... directory\n",
      "usage: mv [-f | -i | -n] [-v] source target\n",
      "       mv [-f | -i | -n] [-v] source ... directory\n",
      "usage: mv [-f | -i | -n] [-v] source target\n",
      "       mv [-f | -i | -n] [-v] source ... directory\n",
      "usage: mv [-f | -i | -n] [-v] source target\n",
      "       mv [-f | -i | -n] [-v] source ... directory\n",
      "usage: mv [-f | -i | -n] [-v] source target\n",
      "       mv [-f | -i | -n] [-v] source ... directory\n",
      "usage: mv [-f | -i | -n] [-v] source target\n",
      "       mv [-f | -i | -n] [-v] source ... directory\n",
      "usage: mv [-f | -i | -n] [-v] source target\n",
      "       mv [-f | -i | -n] [-v] source ... directory\n",
      "usage: mv [-f | -i | -n] [-v] source target\n",
      "       mv [-f | -i | -n] [-v] source ... directory\n",
      "usage: mv [-f | -i | -n] [-v] source target\n",
      "       mv [-f | -i | -n] [-v] source ... directory\n",
      "usage: mv [-f | -i | -n] [-v] source target\n",
      "       mv [-f | -i | -n] [-v] source ... directory\n",
      "usage: mv [-f | -i | -n] [-v] source target\n",
      "       mv [-f | -i | -n] [-v] source ... directory\n",
      "usage: mv [-f | -i | -n] [-v] source target\n",
      "       mv [-f | -i | -n] [-v] source ... directory\n",
      "usage: mv [-f | -i | -n] [-v] source target\n",
      "       mv [-f | -i | -n] [-v] source ... directory\n",
      "usage: mv [-f | -i | -n] [-v] source target\n",
      "       mv [-f | -i | -n] [-v] source ... directory\n",
      "usage: mv [-f | -i | -n] [-v] source target\n",
      "       mv [-f | -i | -n] [-v] source ... directory\n",
      "usage: mv [-f | -i | -n] [-v] source target\n",
      "       mv [-f | -i | -n] [-v] source ... directory\n",
      "usage: mv [-f | -i | -n] [-v] source target\n",
      "       mv [-f | -i | -n] [-v] source ... directory\n",
      "usage: mv [-f | -i | -n] [-v] source target\n",
      "       mv [-f | -i | -n] [-v] source ... directory\n",
      "usage: mv [-f | -i | -n] [-v] source target\n",
      "       mv [-f | -i | -n] [-v] source ... directory\n",
      "usage: mv [-f | -i | -n] [-v] source target\n",
      "       mv [-f | -i | -n] [-v] source ... directory\n",
      "usage: mv [-f | -i | -n] [-v] source target\n",
      "       mv [-f | -i | -n] [-v] source ... directory\n",
      "usage: mv [-f | -i | -n] [-v] source target\n",
      "       mv [-f | -i | -n] [-v] source ... directory\n",
      "usage: mv [-f | -i | -n] [-v] source target\n",
      "       mv [-f | -i | -n] [-v] source ... directory\n",
      "usage: mv [-f | -i | -n] [-v] source target\n",
      "       mv [-f | -i | -n] [-v] source ... directory\n",
      "usage: mv [-f | -i | -n] [-v] source target\n",
      "       mv [-f | -i | -n] [-v] source ... directory\n",
      "usage: mv [-f | -i | -n] [-v] source target\n",
      "       mv [-f | -i | -n] [-v] source ... directory\n",
      "usage: mv [-f | -i | -n] [-v] source target\n",
      "       mv [-f | -i | -n] [-v] source ... directory\n",
      "usage: mv [-f | -i | -n] [-v] source target\n",
      "       mv [-f | -i | -n] [-v] source ... directory\n",
      "usage: mv [-f | -i | -n] [-v] source target\n",
      "       mv [-f | -i | -n] [-v] source ... directory\n",
      "usage: mv [-f | -i | -n] [-v] source target\n",
      "       mv [-f | -i | -n] [-v] source ... directory\n",
      "usage: mv [-f | -i | -n] [-v] source target\n",
      "       mv [-f | -i | -n] [-v] source ... directory\n",
      "usage: mv [-f | -i | -n] [-v] source target\n",
      "       mv [-f | -i | -n] [-v] source ... directory\n",
      "usage: mv [-f | -i | -n] [-v] source target\n",
      "       mv [-f | -i | -n] [-v] source ... directory\n",
      "usage: mv [-f | -i | -n] [-v] source target\n",
      "       mv [-f | -i | -n] [-v] source ... directory\n",
      "usage: mv [-f | -i | -n] [-v] source target\n",
      "       mv [-f | -i | -n] [-v] source ... directory\n",
      "usage: mv [-f | -i | -n] [-v] source target\n",
      "       mv [-f | -i | -n] [-v] source ... directory\n",
      "usage: mv [-f | -i | -n] [-v] source target\n",
      "       mv [-f | -i | -n] [-v] source ... directory\n",
      "usage: mv [-f | -i | -n] [-v] source target\n",
      "       mv [-f | -i | -n] [-v] source ... directory\n",
      "usage: mv [-f | -i | -n] [-v] source target\n",
      "       mv [-f | -i | -n] [-v] source ... directory\n",
      "usage: mv [-f | -i | -n] [-v] source target\n",
      "       mv [-f | -i | -n] [-v] source ... directory\n",
      "usage: mv [-f | -i | -n] [-v] source target\n",
      "       mv [-f | -i | -n] [-v] source ... directory\n"
     ]
    },
    {
     "data": {
      "text/plain": [
       "'Thy1GFP_20_0_0_1.obj'"
      ]
     },
     "execution_count": 47,
     "metadata": {},
     "output_type": "execute_result"
    }
   ],
   "source": [
    "for fil in f:\n",
    "    !mv $fil {(fil[:46]+\"/Gerry Surfaces/\"+fil[61:])}"
   ]
  },
  {
   "cell_type": "code",
   "execution_count": 30,
   "metadata": {
    "collapsed": false
   },
   "outputs": [
    {
     "data": {
      "text/plain": [
       "'/Volumes/TOSHIBA EXT/Neurodome/Processed Stuff/'"
      ]
     },
     "execution_count": 30,
     "metadata": {},
     "output_type": "execute_result"
    }
   ],
   "source": [
    "f[0][:47]"
   ]
  },
  {
   "cell_type": "code",
   "execution_count": 38,
   "metadata": {
    "collapsed": false
   },
   "outputs": [
    {
     "data": {
      "text/plain": [
       "'/Volumes/TOSHIBA EXT/Neurodome/Processed Stuff/Gerry SurfacesThy1GFP_20_2_2_9.obj'"
      ]
     },
     "execution_count": 38,
     "metadata": {},
     "output_type": "execute_result"
    }
   ],
   "source": [
    "fil"
   ]
  },
  {
   "cell_type": "code",
   "execution_count": 42,
   "metadata": {
    "collapsed": false
   },
   "outputs": [
    {
     "data": {
      "text/plain": [
       "'/Volumes/TOSHIBA EXT/Neurodome/Processed Stuff/Gerry SurfacesThy1GFP_20_2_2_9.obj /Volumes/TOSHIBA EXT/Neurodome/Processed Stuff/Gerry Surfaces/Thy1GFP_20_0_0_1.obj'"
      ]
     },
     "execution_count": 42,
     "metadata": {},
     "output_type": "execute_result"
    }
   ],
   "source": [
    "fil + \" \" + (f[0][:46]+\"/Gerry Surfaces/\"+f[0][61:])"
   ]
  },
  {
   "cell_type": "code",
   "execution_count": 45,
   "metadata": {
    "collapsed": false
   },
   "outputs": [
    {
     "data": {
      "text/plain": [
       "'/Volumes/TOSHIBA EXT/Neurodome/Processed Stuff/Gerry Surfaces/Thy1GFP_20_0_0_1.obj'"
      ]
     },
     "execution_count": 45,
     "metadata": {},
     "output_type": "execute_result"
    }
   ],
   "source": [
    "(f[0][:46]+\"/Gerry Surfaces/\"+f[0][61:])"
   ]
  },
  {
   "cell_type": "code",
   "execution_count": null,
   "metadata": {
    "collapsed": true
   },
   "outputs": [],
   "source": []
  }
 ],
 "metadata": {
  "kernelspec": {
   "display_name": "Python 2",
   "language": "python",
   "name": "python2"
  },
  "language_info": {
   "codemirror_mode": {
    "name": "ipython",
    "version": 2
   },
   "file_extension": ".py",
   "mimetype": "text/x-python",
   "name": "python",
   "nbconvert_exporter": "python",
   "pygments_lexer": "ipython2",
   "version": "2.7.9"
  }
 },
 "nbformat": 4,
 "nbformat_minor": 0
}
