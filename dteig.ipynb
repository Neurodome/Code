{
 "metadata": {
  "name": "",
  "signature": "sha256:ef48c43061361534d01c8f6e3f9c89ab62c6de482d10dbb256381d1a12965c32"
 },
 "nbformat": 3,
 "nbformat_minor": 0,
 "worksheets": [
  {
   "cells": [
    {
     "cell_type": "code",
     "collapsed": false,
     "input": [
      "from numpy import *\n",
      "import struct\n",
      "import NeurodomeLibrary"
     ],
     "language": "python",
     "metadata": {},
     "outputs": [],
     "prompt_number": 1
    },
    {
     "cell_type": "code",
     "collapsed": false,
     "input": [
      "baseInDir = \"/Volumes/TOSHIBA EXT/Neurodome/Raw Data\"\n",
      "baseOutDir = \"/Volumes/TOSHIBA EXT/Neurodome/Processed Stuff\"\n",
      "decimationFactor = 12\n",
      "xnum = 145\n",
      "ynum = 174\n",
      "znum = 145\n",
      "segments=8\n",
      "rings=16\n",
      "semi = 2\n",
      "dim = (xnum,ynum,znum)\n",
      "dataFil = open(baseInDir+\"/dteig.Bdouble\",\"rb\")\n",
      "objFil = open(baseOutDir+\"/SuperquadricGlyphsA.obj\",\"w\")\n",
      "vertCount = 0\n",
      "dif = 0\n",
      "for z in xrange(0,dim[2],decimationFactor):\n",
      "    for y in xrange(0,dim[1],decimationFactor):\n",
      "        for x in xrange(0,dim[0],decimationFactor):\n",
      "            nums = struct.unpack(\">12d\",dataFil.read(12*8))\n",
      "            if (max(nums) != 0 or min(nums) != 0):\n",
      "                eig = [nums[0],nums[4],nums[8]]\n",
      "                vectors = [array([nums[1],nums[2],nums[3]])]\n",
      "                vectors.append(array([nums[5],nums[6],nums[7]]))\n",
      "                vectors.append(array([nums[9],nums[10],nums[11]]))\n",
      "                if linalg.norm(vectors[0]) and linalg.norm(vectors[1]) and linalg.norm(vectors[2]) :\n",
      "                    res = NeurodomeLibrary.makeSuperquadricGlyph(eig,vectors,segments=segments,rings=rings,center = (x-dim[0]/2,y-dim[1]/2,z-dim[2]/2),radius = semi)\n",
      "                    if abs(sum(res[0][0]-res[0][-1])) < 3*semi:\n",
      "                        vertCount += NeurodomeLibrary.writeOBJFile(objFil,res[0],res[1],vertexoffset = vertCount)\n",
      "            dataFil.seek(12*8*(decimationFactor-1),1)\n",
      "        dataFil.seek(12*8*((dim[0]-1)%decimationFactor)-12*8*(decimationFactor-1),1)\n",
      "        dataFil.seek(12*8*dim[0]*(decimationFactor-1),1)\n",
      "    dataFil.seek(12*8*dim[0]*((dim[1]-1)%decimationFactor)-12*8*dim[0]*(decimationFactor-1),1)\n",
      "    dataFil.seek(12*8*dim[0]*dim[1]*(decimationFactor-1),1)\n",
      "dataFil.close()\n",
      "objFil.close()"
     ],
     "language": "python",
     "metadata": {},
     "outputs": [],
     "prompt_number": 2
    },
    {
     "cell_type": "code",
     "collapsed": false,
     "input": [
      "objFil = open(baseOutDir+\"/SuperquadricGlyphsA.obj\")\n",
      "vertFil = open(baseOutDir+\"/tempvert.txt\",\"w\")\n",
      "faceFil = open(baseOutDir+\"/tempface.txt\",\"w\")\n",
      "string = objFil.readline()\n",
      "numVert = 0\n",
      "numFace = 0\n",
      "while string:\n",
      "    arr = string.split()\n",
      "    if arr[0] ==\"v\":\n",
      "        numVert += 1\n",
      "        vertFil.write(' '.join(arr[1:])+\"\\n\")\n",
      "    else:\n",
      "        numFace += 1\n",
      "        faceFil.write(' '.join(arr[1:])+\"\\n\") \n",
      "    string = objFil.readline()\n",
      "vertFil.close()\n",
      "faceFil.close()\n",
      "objFil.close()\n",
      "dataFil = open(baseInDir+\"/dteig.Bdouble\",\"rb\")\n",
      "vertFil = open(baseOutDir+\"/tempvert.txt\")\n",
      "PLYfil = open(baseOutDir+\"/SuperquadricGlyphs.ply\",\"w\")\n",
      "PLYfil.write(\"ply\\nformat ascii 1.0\\ncomment made by Jeffrey SubbaRao\\nelement vertex \"+str(numVert)\n",
      "             +\"\\nproperty float x\\n\"+\"property float y\\nproperty float z\\n\"\n",
      "             +\"\\nproperty float nx\\n\"+\"property float ny\\nproperty float nz\\n\"\n",
      "             +\"nproperty uchar red\\nproperty uchar green\\nproperty uchar blue\\n\"\n",
      "             +\"element face \"+str(numFace)+\"\\nproperty list uchar int vertex_indices\\nend_header\\n\")\n",
      "for z in xrange(0,dim[2],decimationFactor):\n",
      "    for y in xrange(0,dim[1],decimationFactor):\n",
      "        for x in xrange(0,dim[0],decimationFactor):\n",
      "            nums = struct.unpack(\">12d\",dataFil.read(12*8))\n",
      "            if (max(nums) != 0 or min(nums) != 0):\n",
      "                eig = [nums[0],nums[4],nums[8]]\n",
      "                vectors = [array([nums[1],nums[2],nums[3]])]\n",
      "                vectors.append(array([nums[5],nums[6],nums[7]]))\n",
      "                vectors.append(array([nums[9],nums[10],nums[11]]))\n",
      "                if linalg.norm(vectors[0]) and linalg.norm(vectors[1]) and linalg.norm(vectors[2]) :\n",
      "                    res = NeurodomeLibrary.makeSuperquadricGlyph(eig,vectors,segments=3,rings=3,center = (x-dim[0]/2,y-dim[1]/2,z-dim[2]/2),radius = semi)\n",
      "                    if abs(sum(res[0][0]-res[0][-1])) < 3*semi:\n",
      "                        for i in xrange(segments*(rings-1)+2):\n",
      "                            line = vertFil.readline().rstrip()\n",
      "                            coords = []\n",
      "                            for s in line.split():\n",
      "                                coords.append(float(s))\n",
      "                            coords = array(coords)\n",
      "                            vec = coords-array([x-dim[0]/2,y-dim[1]/2,z-dim[2]/2])\n",
      "                            vec = vec/linalg.norm(vec)\n",
      "                            PLYfil.write(line+\" \"+\" \".join(str(x) for x in vec)+\" \"+\" \".join(str(int(round(abs(x)))) for x in (255*vectors[0]/linalg.norm(vectors[0])))+\"\\n\")\n",
      "            dataFil.seek(12*8*(decimationFactor-1),1)\n",
      "        dataFil.seek(12*8*((dim[0]-1)%decimationFactor)-12*8*(decimationFactor-1),1)\n",
      "        dataFil.seek(12*8*dim[0]*(decimationFactor-1),1)\n",
      "    dataFil.seek(12*8*dim[0]*((dim[1]-1)%decimationFactor)-12*8*dim[0]*(decimationFactor-1),1)\n",
      "    dataFil.seek(12*8*dim[0]*dim[1]*(decimationFactor-1),1)\n",
      "dataFil.close()\n",
      "objFil.close()\n",
      "vertFil.close()\n",
      "faceFil = open(baseOutDir+\"/tempface.txt\")\n",
      "line = faceFil.readline()\n",
      "while line:\n",
      "    verts = line.split()\n",
      "    PLYfil.write(str(len(verts))+\" \"+\" \".join(str(int(x)-1) for x in verts)+\"\\n\")\n",
      "    line = faceFil.readline()\n",
      "faceFil.close\n",
      "PLYfil.close()"
     ],
     "language": "python",
     "metadata": {},
     "outputs": [],
     "prompt_number": 22
    },
    {
     "cell_type": "code",
     "collapsed": false,
     "input": [
      "arr = ['1' ,'2', '3','4']"
     ],
     "language": "python",
     "metadata": {},
     "outputs": [],
     "prompt_number": 2
    },
    {
     "cell_type": "code",
     "collapsed": false,
     "input": [
      "print dif"
     ],
     "language": "python",
     "metadata": {},
     "outputs": [
      {
       "output_type": "stream",
       "stream": "stdout",
       "text": [
        "390\n"
       ]
      }
     ],
     "prompt_number": 77
    },
    {
     "cell_type": "code",
     "collapsed": false,
     "input": [
      "' '.join(arr[1:])"
     ],
     "language": "python",
     "metadata": {},
     "outputs": [
      {
       "metadata": {},
       "output_type": "pyout",
       "prompt_number": 4,
       "text": [
        "'2 3 4'"
       ]
      }
     ],
     "prompt_number": 4
    },
    {
     "cell_type": "code",
     "collapsed": false,
     "input": [
      "arr = array([1,1,1])"
     ],
     "language": "python",
     "metadata": {},
     "outputs": [],
     "prompt_number": 7
    },
    {
     "cell_type": "code",
     "collapsed": false,
     "input": [
      "linalg.norm(arr)"
     ],
     "language": "python",
     "metadata": {},
     "outputs": [
      {
       "metadata": {},
       "output_type": "pyout",
       "prompt_number": 11,
       "text": [
        "1.7320508075688772"
       ]
      }
     ],
     "prompt_number": 11
    },
    {
     "cell_type": "code",
     "collapsed": false,
     "input": [
      "sqrt(3)"
     ],
     "language": "python",
     "metadata": {},
     "outputs": [
      {
       "metadata": {},
       "output_type": "pyout",
       "prompt_number": 12,
       "text": [
        "1.7320508075688772"
       ]
      }
     ],
     "prompt_number": 12
    },
    {
     "cell_type": "code",
     "collapsed": false,
     "input": [
      "print \"ply\\nformat ascii 1.0\\ncomment made by Jeffrey SubbaRao\\nelement vertex \"+str(10)+\"\\nproperty float x\\n\"+\"property float y\\nproperty float z\\nproperty red uchar\\nproperty green uchar\\nproperty blue uchar\\n\"+\"element face \"+str(10)+\"\\nproperty list uchar vertex_indices\\nend_header\""
     ],
     "language": "python",
     "metadata": {},
     "outputs": [
      {
       "output_type": "stream",
       "stream": "stdout",
       "text": [
        "ply\n",
        "format ascii 1.0\n",
        "comment made by Jeffrey SubbaRao\n",
        "element vertex 10\n",
        "property float x\n",
        "property float y\n",
        "property float z\n",
        "property red uchar\n",
        "property green uchar\n",
        "property blue uchar\n",
        "element face 10\n",
        "property list uchar vertex_indices\n",
        "end_header\n"
       ]
      }
     ],
     "prompt_number": 19
    },
    {
     "cell_type": "code",
     "collapsed": false,
     "input": [
      "len(NeurodomeLibrary.UVFaces(6,6))"
     ],
     "language": "python",
     "metadata": {},
     "outputs": [
      {
       "metadata": {},
       "output_type": "pyout",
       "prompt_number": 23,
       "text": [
        "36"
       ]
      }
     ],
     "prompt_number": 23
    },
    {
     "cell_type": "code",
     "collapsed": false,
     "input": [
      "len(NeurodomeLibrary.makeUVSphere(segments=10,rings = 4)[0])"
     ],
     "language": "python",
     "metadata": {},
     "outputs": [
      {
       "metadata": {},
       "output_type": "pyout",
       "prompt_number": 57,
       "text": [
        "32"
       ]
      }
     ],
     "prompt_number": 57
    },
    {
     "cell_type": "code",
     "collapsed": false,
     "input": [
      "', '.join(str(x) for x in (1,2,3)) "
     ],
     "language": "python",
     "metadata": {},
     "outputs": [
      {
       "metadata": {},
       "output_type": "pyout",
       "prompt_number": 34,
       "text": [
        "'1, 2, 3'"
       ]
      }
     ],
     "prompt_number": 34
    },
    {
     "cell_type": "code",
     "collapsed": false,
     "input": [
      "segments*(rings-1)+2"
     ],
     "language": "python",
     "metadata": {},
     "outputs": [
      {
       "metadata": {},
       "output_type": "pyout",
       "prompt_number": 67,
       "text": [
        "122"
       ]
      }
     ],
     "prompt_number": 67
    },
    {
     "cell_type": "code",
     "collapsed": false,
     "input": [
      "print x+\",\" for: x in \"1 2 3\".split()"
     ],
     "language": "python",
     "metadata": {},
     "outputs": [
      {
       "ename": "SyntaxError",
       "evalue": "invalid syntax (<ipython-input-98-319673b49785>, line 1)",
       "output_type": "pyerr",
       "traceback": [
        "\u001b[0;36m  File \u001b[0;32m\"<ipython-input-98-319673b49785>\"\u001b[0;36m, line \u001b[0;32m1\u001b[0m\n\u001b[0;31m    print x+\",\" for: x in \"1 2 3\".split()\u001b[0m\n\u001b[0m                  ^\u001b[0m\n\u001b[0;31mSyntaxError\u001b[0m\u001b[0;31m:\u001b[0m invalid syntax\n"
       ]
      }
     ],
     "prompt_number": 98
    },
    {
     "cell_type": "code",
     "collapsed": false,
     "input": [
      "verts = (1,2,3)\n",
      "\" \".join(str(int(x)-1) for x in verts)+\"\\n\""
     ],
     "language": "python",
     "metadata": {},
     "outputs": [
      {
       "metadata": {},
       "output_type": "pyout",
       "prompt_number": 2,
       "text": [
        "'0 1 2\\n'"
       ]
      }
     ],
     "prompt_number": 2
    },
    {
     "cell_type": "code",
     "collapsed": false,
     "input": [
      "str(len(verts))+\" \"+\" \".join(str(int(x)-1) for x in verts)+\"\\n\""
     ],
     "language": "python",
     "metadata": {},
     "outputs": [
      {
       "metadata": {},
       "output_type": "pyout",
       "prompt_number": 3,
       "text": [
        "'3 0 1 2\\n'"
       ]
      }
     ],
     "prompt_number": 3
    },
    {
     "cell_type": "code",
     "collapsed": false,
     "input": [
      "coords"
     ],
     "language": "python",
     "metadata": {},
     "outputs": [
      {
       "metadata": {},
       "output_type": "pyout",
       "prompt_number": 15,
       "text": [
        "array([-24.137, -27.73 , -60.458])"
       ]
      }
     ],
     "prompt_number": 15
    },
    {
     "cell_type": "code",
     "collapsed": false,
     "input": [
      "array([x-dim[0]/2,y-dim[1]/2,z-dim[2]/2])"
     ],
     "language": "python",
     "metadata": {},
     "outputs": [
      {
       "ename": "TypeError",
       "evalue": "unsupported operand type(s) for -: 'str' and 'int'",
       "output_type": "pyerr",
       "traceback": [
        "\u001b[0;31m---------------------------------------------------------------------------\u001b[0m\n\u001b[0;31mTypeError\u001b[0m                                 Traceback (most recent call last)",
        "\u001b[0;32m<ipython-input-16-b763dc6456eb>\u001b[0m in \u001b[0;36m<module>\u001b[0;34m()\u001b[0m\n\u001b[0;32m----> 1\u001b[0;31m \u001b[0marray\u001b[0m\u001b[0;34m(\u001b[0m\u001b[0;34m[\u001b[0m\u001b[0mx\u001b[0m\u001b[0;34m-\u001b[0m\u001b[0mdim\u001b[0m\u001b[0;34m[\u001b[0m\u001b[0;36m0\u001b[0m\u001b[0;34m]\u001b[0m\u001b[0;34m/\u001b[0m\u001b[0;36m2\u001b[0m\u001b[0;34m,\u001b[0m\u001b[0my\u001b[0m\u001b[0;34m-\u001b[0m\u001b[0mdim\u001b[0m\u001b[0;34m[\u001b[0m\u001b[0;36m1\u001b[0m\u001b[0;34m]\u001b[0m\u001b[0;34m/\u001b[0m\u001b[0;36m2\u001b[0m\u001b[0;34m,\u001b[0m\u001b[0mz\u001b[0m\u001b[0;34m-\u001b[0m\u001b[0mdim\u001b[0m\u001b[0;34m[\u001b[0m\u001b[0;36m2\u001b[0m\u001b[0;34m]\u001b[0m\u001b[0;34m/\u001b[0m\u001b[0;36m2\u001b[0m\u001b[0;34m]\u001b[0m\u001b[0;34m)\u001b[0m\u001b[0;34m\u001b[0m\u001b[0m\n\u001b[0m",
        "\u001b[0;31mTypeError\u001b[0m: unsupported operand type(s) for -: 'str' and 'int'"
       ]
      }
     ],
     "prompt_number": 16
    },
    {
     "cell_type": "code",
     "collapsed": false,
     "input": [
      "dim"
     ],
     "language": "python",
     "metadata": {},
     "outputs": [
      {
       "metadata": {},
       "output_type": "pyout",
       "prompt_number": 17,
       "text": [
        "(145, 174, 145)"
       ]
      }
     ],
     "prompt_number": 17
    },
    {
     "cell_type": "code",
     "collapsed": false,
     "input": [
      "x"
     ],
     "language": "python",
     "metadata": {},
     "outputs": [
      {
       "metadata": {},
       "output_type": "pyout",
       "prompt_number": 18,
       "text": [
        "'-60.458'"
       ]
      }
     ],
     "prompt_number": 18
    },
    {
     "cell_type": "code",
     "collapsed": false,
     "input": [
      "y"
     ],
     "language": "python",
     "metadata": {},
     "outputs": [
      {
       "metadata": {},
       "output_type": "pyout",
       "prompt_number": 19,
       "text": [
        "60"
       ]
      }
     ],
     "prompt_number": 19
    },
    {
     "cell_type": "code",
     "collapsed": false,
     "input": [
      "z"
     ],
     "language": "python",
     "metadata": {},
     "outputs": [
      {
       "metadata": {},
       "output_type": "pyout",
       "prompt_number": 20,
       "text": [
        "12"
       ]
      }
     ],
     "prompt_number": 20
    },
    {
     "cell_type": "code",
     "collapsed": false,
     "input": [],
     "language": "python",
     "metadata": {},
     "outputs": []
    }
   ],
   "metadata": {}
  }
 ]
}